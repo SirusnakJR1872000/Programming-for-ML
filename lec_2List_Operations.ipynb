{
  "nbformat": 4,
  "nbformat_minor": 0,
  "metadata": {
    "colab": {
      "provenance": []
    },
    "kernelspec": {
      "name": "python3",
      "display_name": "Python 3"
    },
    "language_info": {
      "name": "python"
    }
  },
  "cells": [
    {
      "cell_type": "code",
      "source": [
        "import matplotlib.pyplot as plt"
      ],
      "metadata": {
        "id": "pOOO0O8FJ_s_"
      },
      "execution_count": 1,
      "outputs": []
    },
    {
      "cell_type": "code",
      "execution_count": 3,
      "metadata": {
        "id": "jUUv8naKJRpq"
      },
      "outputs": [],
      "source": [
        "# given a list you have to plot a graph of time squared and length\n",
        "\n",
        "sq_t = []\n",
        "\n",
        "t = [0.34, 0.43, 0.56, 0.24, 0.76, 0.87, 0.98]\n",
        "l = [2, 3, 4, 6, 7, 8, 10]\n",
        "\n",
        "for time in t:\n",
        "  sq_t.append(time**2)"
      ]
    },
    {
      "cell_type": "code",
      "source": [
        "sq_t"
      ],
      "metadata": {
        "colab": {
          "base_uri": "https://localhost:8080/"
        },
        "id": "6y286O1BKRRp",
        "outputId": "b67163c2-0ffa-407a-ff53-b3f92839465a"
      },
      "execution_count": 5,
      "outputs": [
        {
          "output_type": "execute_result",
          "data": {
            "text/plain": [
              "[0.11560000000000002,\n",
              " 0.18489999999999998,\n",
              " 0.31360000000000005,\n",
              " 0.0576,\n",
              " 0.5776,\n",
              " 0.7569,\n",
              " 0.9603999999999999]"
            ]
          },
          "metadata": {},
          "execution_count": 5
        }
      ]
    },
    {
      "cell_type": "code",
      "source": [
        "plt.plot(sq_t, l)\n",
        "plt.scatter(sq_t, l)\n",
        "plt.xlabel('time')\n",
        "plt.ylabel('length')\n",
        "plt.title('time v/s length')\n",
        "plt.show();"
      ],
      "metadata": {
        "colab": {
          "base_uri": "https://localhost:8080/",
          "height": 472
        },
        "id": "qVjPj038KUnv",
        "outputId": "cc6e28cc-701c-4f47-e555-a69de6cf51d8"
      },
      "execution_count": 8,
      "outputs": [
        {
          "output_type": "display_data",
          "data": {
            "text/plain": [
              "<Figure size 640x480 with 1 Axes>"
            ],
            "image/png": "[encoded data removed]"
          },
          "metadata": {}
        }
      ]
    },
    {
      "cell_type": "markdown",
      "source": [
        "# List operations"
      ],
      "metadata": {
        "id": "Adn-jGNfLuPe"
      }
    },
    {
      "cell_type": "code",
      "source": [
        "# lets create an empty list\n",
        "l = []\n",
        "\n",
        "# lets create a list with values\n",
        "l1 = [1,2,3,4,5,6,7]\n",
        "\n",
        "# now lets create a list with mixed data types\n",
        "l2 = [1, 2.3, 4, 'gaurav', 55, True]\n",
        "\n",
        "# we can also form a list from a range\n",
        "list(range(1, 6))"
      ],
      "metadata": {
        "colab": {
          "base_uri": "https://localhost:8080/"
        },
        "id": "bbd5Kxg0K7Ug",
        "outputId": "da0a0987-6b22-4d59-c13c-7bed8721120d"
      },
      "execution_count": 9,
      "outputs": [
        {
          "output_type": "execute_result",
          "data": {
            "text/plain": [
              "[1, 2, 3, 4, 5]"
            ]
          },
          "metadata": {},
          "execution_count": 9
        }
      ]
    },
    {
      "cell_type": "code",
      "source": [
        "type(l2)"
      ],
      "metadata": {
        "colab": {
          "base_uri": "https://localhost:8080/"
        },
        "id": "aC88rpXAMYfS",
        "outputId": "c0ff4531-89cf-40df-fc0a-668b981252a8"
      },
      "execution_count": 10,
      "outputs": [
        {
          "output_type": "execute_result",
          "data": {
            "text/plain": [
              "list"
            ]
          },
          "metadata": {},
          "execution_count": 10
        }
      ]
    },
    {
      "cell_type": "code",
      "source": [
        "type(l2[3])"
      ],
      "metadata": {
        "colab": {
          "base_uri": "https://localhost:8080/"
        },
        "id": "y4MnY1aBMbQI",
        "outputId": "684f96bc-4c02-4190-bdc4-23f94297eb71"
      },
      "execution_count": 11,
      "outputs": [
        {
          "output_type": "execute_result",
          "data": {
            "text/plain": [
              "str"
            ]
          },
          "metadata": {},
          "execution_count": 11
        }
      ]
    },
    {
      "cell_type": "code",
      "source": [
        "type(l2[5])"
      ],
      "metadata": {
        "colab": {
          "base_uri": "https://localhost:8080/"
        },
        "id": "fuKTk8YAMe2U",
        "outputId": "8dbbea32-47c9-4da1-b8da-002e4feafed4"
      },
      "execution_count": 12,
      "outputs": [
        {
          "output_type": "execute_result",
          "data": {
            "text/plain": [
              "bool"
            ]
          },
          "metadata": {},
          "execution_count": 12
        }
      ]
    },
    {
      "cell_type": "code",
      "source": [
        "# lets see how we can access an element from the list\n",
        "\n",
        "# suppose we have a list\n",
        "l_ist = [23, 45, 46, 567, 34, 12, 11]\n",
        "\n",
        "# suppose we want to retrieve the element at 3rd position\n",
        "l_ist[2]"
      ],
      "metadata": {
        "colab": {
          "base_uri": "https://localhost:8080/"
        },
        "id": "PYmV-J03MjAg",
        "outputId": "d1bb62db-e4f2-4c51-f30a-f35b209fa24f"
      },
      "execution_count": 13,
      "outputs": [
        {
          "output_type": "execute_result",
          "data": {
            "text/plain": [
              "46"
            ]
          },
          "metadata": {},
          "execution_count": 13
        }
      ]
    },
    {
      "cell_type": "code",
      "source": [
        "# now lets learn how to slice the list\n",
        "# lets say we want to access the elements from the first position to the 4th position\n",
        "\n",
        "l_ist[0:4]"
      ],
      "metadata": {
        "colab": {
          "base_uri": "https://localhost:8080/"
        },
        "id": "0KvbKT64M6pC",
        "outputId": "5b0327e0-c174-4122-cc82-9bc7889ec6ca"
      },
      "execution_count": 14,
      "outputs": [
        {
          "output_type": "execute_result",
          "data": {
            "text/plain": [
              "[23, 45, 46, 567]"
            ]
          },
          "metadata": {},
          "execution_count": 14
        }
      ]
    },
    {
      "cell_type": "code",
      "source": [
        "# suppose we want to access every second element in the list\n",
        "l_ist[::2]"
      ],
      "metadata": {
        "colab": {
          "base_uri": "https://localhost:8080/"
        },
        "id": "oo_AKILdNIa5",
        "outputId": "c280b852-5f42-4f2f-e46e-074767aeaab5"
      },
      "execution_count": 15,
      "outputs": [
        {
          "output_type": "execute_result",
          "data": {
            "text/plain": [
              "[23, 46, 34, 11]"
            ]
          },
          "metadata": {},
          "execution_count": 15
        }
      ]
    },
    {
      "cell_type": "code",
      "source": [
        "# suppose we want to reverese the list\n",
        "l_ist[::-1]"
      ],
      "metadata": {
        "colab": {
          "base_uri": "https://localhost:8080/"
        },
        "id": "iQ3hyGIYNQdb",
        "outputId": "1c4f19a8-e659-41c5-abc3-abd65fe4ba4a"
      },
      "execution_count": 16,
      "outputs": [
        {
          "output_type": "execute_result",
          "data": {
            "text/plain": [
              "[11, 12, 34, 567, 46, 45, 23]"
            ]
          },
          "metadata": {},
          "execution_count": 16
        }
      ]
    },
    {
      "cell_type": "code",
      "source": [
        "# suppose we want the list from the third element to the last\n",
        "l_ist[2:]"
      ],
      "metadata": {
        "colab": {
          "base_uri": "https://localhost:8080/"
        },
        "id": "GISq3XBWNWO5",
        "outputId": "e6da1467-5642-4670-d441-f63046541c60"
      },
      "execution_count": 17,
      "outputs": [
        {
          "output_type": "execute_result",
          "data": {
            "text/plain": [
              "[46, 567, 34, 12, 11]"
            ]
          },
          "metadata": {},
          "execution_count": 17
        }
      ]
    },
    {
      "cell_type": "code",
      "source": [
        "# lets see how we can add items in the list\n",
        "l_ist.append(134)"
      ],
      "metadata": {
        "id": "VHrfghQONehn"
      },
      "execution_count": 18,
      "outputs": []
    },
    {
      "cell_type": "code",
      "source": [
        "l_ist"
      ],
      "metadata": {
        "colab": {
          "base_uri": "https://localhost:8080/"
        },
        "id": "T7ed5bsGNuCQ",
        "outputId": "2ca1dd36-3f20-4773-ad8c-dc4b2f1f8e3e"
      },
      "execution_count": 19,
      "outputs": [
        {
          "output_type": "execute_result",
          "data": {
            "text/plain": [
              "[23, 45, 46, 567, 34, 12, 11, 134]"
            ]
          },
          "metadata": {},
          "execution_count": 19
        }
      ]
    },
    {
      "cell_type": "code",
      "source": [
        "l_ist.append(234)"
      ],
      "metadata": {
        "id": "XYG9h2_INvOX"
      },
      "execution_count": 20,
      "outputs": []
    },
    {
      "cell_type": "code",
      "source": [
        "l_ist.append(69)"
      ],
      "metadata": {
        "id": "Z2Ant8UyNyfC"
      },
      "execution_count": 21,
      "outputs": []
    },
    {
      "cell_type": "code",
      "source": [
        "l_ist.append(78)"
      ],
      "metadata": {
        "id": "hjbhP24qN1MO"
      },
      "execution_count": 22,
      "outputs": []
    },
    {
      "cell_type": "code",
      "source": [
        "l_ist.append(45)"
      ],
      "metadata": {
        "id": "sY_xt70IN246"
      },
      "execution_count": 23,
      "outputs": []
    },
    {
      "cell_type": "code",
      "source": [
        "l_ist"
      ],
      "metadata": {
        "colab": {
          "base_uri": "https://localhost:8080/"
        },
        "id": "EtVRwPy4N563",
        "outputId": "63ef84b6-b54f-4f3d-aa4e-337e0c82aefc"
      },
      "execution_count": 24,
      "outputs": [
        {
          "output_type": "execute_result",
          "data": {
            "text/plain": [
              "[23, 45, 46, 567, 34, 12, 11, 134, 234, 69, 78, 45]"
            ]
          },
          "metadata": {},
          "execution_count": 24
        }
      ]
    },
    {
      "cell_type": "code",
      "source": [
        "# suppose we want to insert the element at a particular index\n",
        "l_ist.insert(3, 78)"
      ],
      "metadata": {
        "id": "cICg140zN7l3"
      },
      "execution_count": 25,
      "outputs": []
    },
    {
      "cell_type": "code",
      "source": [
        "l_ist"
      ],
      "metadata": {
        "colab": {
          "base_uri": "https://localhost:8080/"
        },
        "id": "vQNc55Z9OC28",
        "outputId": "8dd4d037-1119-4d27-94a4-10e07175e63a"
      },
      "execution_count": 26,
      "outputs": [
        {
          "output_type": "execute_result",
          "data": {
            "text/plain": [
              "[23, 45, 46, 78, 567, 34, 12, 11, 134, 234, 69, 78, 45]"
            ]
          },
          "metadata": {},
          "execution_count": 26
        }
      ]
    },
    {
      "cell_type": "code",
      "source": [
        "l_ist.insert(4, 99)"
      ],
      "metadata": {
        "id": "WON_YznqODfR"
      },
      "execution_count": 27,
      "outputs": []
    },
    {
      "cell_type": "code",
      "source": [
        "l_ist.insert(5, 100)"
      ],
      "metadata": {
        "id": "f5JOwTR2OH7E"
      },
      "execution_count": 28,
      "outputs": []
    },
    {
      "cell_type": "code",
      "source": [
        "l_ist.insert(7, 1998)"
      ],
      "metadata": {
        "id": "4Nna3kzxOKY-"
      },
      "execution_count": 29,
      "outputs": []
    },
    {
      "cell_type": "code",
      "source": [
        "l_ist"
      ],
      "metadata": {
        "colab": {
          "base_uri": "https://localhost:8080/"
        },
        "id": "jLszSP23OMn9",
        "outputId": "aa9e993b-3509-4aad-e2b9-68860e30b0e3"
      },
      "execution_count": 30,
      "outputs": [
        {
          "output_type": "execute_result",
          "data": {
            "text/plain": [
              "[23, 45, 46, 78, 99, 100, 567, 1998, 34, 12, 11, 134, 234, 69, 78, 45]"
            ]
          },
          "metadata": {},
          "execution_count": 30
        }
      ]
    },
    {
      "cell_type": "code",
      "source": [
        "l_ist.insert(1, 999)"
      ],
      "metadata": {
        "id": "fOe6Gv9KONWW"
      },
      "execution_count": 31,
      "outputs": []
    },
    {
      "cell_type": "code",
      "source": [
        "l_ist.insert(0, 69)"
      ],
      "metadata": {
        "id": "1iLDOgjYOQO-"
      },
      "execution_count": 32,
      "outputs": []
    },
    {
      "cell_type": "code",
      "source": [
        "l_ist"
      ],
      "metadata": {
        "colab": {
          "base_uri": "https://localhost:8080/"
        },
        "id": "eBUhb7sCOSJ5",
        "outputId": "73969ab2-abb2-4609-8132-1a8c6154da4b"
      },
      "execution_count": 33,
      "outputs": [
        {
          "output_type": "execute_result",
          "data": {
            "text/plain": [
              "[69, 23, 999, 45, 46, 78, 99, 100, 567, 1998, 34, 12, 11, 134, 234, 69, 78, 45]"
            ]
          },
          "metadata": {},
          "execution_count": 33
        }
      ]
    },
    {
      "cell_type": "code",
      "source": [
        "# suppose we want to add multiple elements in the list\n",
        "l_ist.extend([2,45])"
      ],
      "metadata": {
        "id": "iZQ1kF0dOTYH"
      },
      "execution_count": 34,
      "outputs": []
    },
    {
      "cell_type": "code",
      "source": [
        "l_ist"
      ],
      "metadata": {
        "colab": {
          "base_uri": "https://localhost:8080/"
        },
        "id": "wXEiz-XXOdc6",
        "outputId": "b29af61f-b6b2-429d-a309-6d3b263b4422"
      },
      "execution_count": 35,
      "outputs": [
        {
          "output_type": "execute_result",
          "data": {
            "text/plain": [
              "[69,\n",
              " 23,\n",
              " 999,\n",
              " 45,\n",
              " 46,\n",
              " 78,\n",
              " 99,\n",
              " 100,\n",
              " 567,\n",
              " 1998,\n",
              " 34,\n",
              " 12,\n",
              " 11,\n",
              " 134,\n",
              " 234,\n",
              " 69,\n",
              " 78,\n",
              " 45,\n",
              " 2,\n",
              " 45]"
            ]
          },
          "metadata": {},
          "execution_count": 35
        }
      ]
    },
    {
      "cell_type": "code",
      "source": [
        "l_ist.extend([23, 56, 89, 765])"
      ],
      "metadata": {
        "id": "jAu8SO8OOeFu"
      },
      "execution_count": 36,
      "outputs": []
    },
    {
      "cell_type": "code",
      "source": [
        "l_ist.extend([90, 456, 678, 18])"
      ],
      "metadata": {
        "id": "W6t8XvBROkun"
      },
      "execution_count": 37,
      "outputs": []
    },
    {
      "cell_type": "code",
      "source": [
        "l_ist.extend([8866, 9087, 768])"
      ],
      "metadata": {
        "id": "WhPXSFEDOn7j"
      },
      "execution_count": 38,
      "outputs": []
    },
    {
      "cell_type": "code",
      "source": [
        "l_ist"
      ],
      "metadata": {
        "colab": {
          "base_uri": "https://localhost:8080/"
        },
        "id": "GsT4eZ_LOrkm",
        "outputId": "ce115474-d7a3-412c-ab2a-d2aafcb954c6"
      },
      "execution_count": 39,
      "outputs": [
        {
          "output_type": "execute_result",
          "data": {
            "text/plain": [
              "[69,\n",
              " 23,\n",
              " 999,\n",
              " 45,\n",
              " 46,\n",
              " 78,\n",
              " 99,\n",
              " 100,\n",
              " 567,\n",
              " 1998,\n",
              " 34,\n",
              " 12,\n",
              " 11,\n",
              " 134,\n",
              " 234,\n",
              " 69,\n",
              " 78,\n",
              " 45,\n",
              " 2,\n",
              " 45,\n",
              " 23,\n",
              " 56,\n",
              " 89,\n",
              " 765,\n",
              " 90,\n",
              " 456,\n",
              " 678,\n",
              " 18,\n",
              " 8866,\n",
              " 9087,\n",
              " 768]"
            ]
          },
          "metadata": {},
          "execution_count": 39
        }
      ]
    },
    {
      "cell_type": "code",
      "source": [
        "# now lets look how we can remove an element from the list\n",
        "l_ist.remove(999)"
      ],
      "metadata": {
        "id": "OqsWA9YYOsSH"
      },
      "execution_count": 40,
      "outputs": []
    },
    {
      "cell_type": "code",
      "source": [
        "l_ist"
      ],
      "metadata": {
        "colab": {
          "base_uri": "https://localhost:8080/"
        },
        "id": "ITAfq_8_O0RL",
        "outputId": "b33708b2-cb14-4d72-b295-42052a038710"
      },
      "execution_count": 41,
      "outputs": [
        {
          "output_type": "execute_result",
          "data": {
            "text/plain": [
              "[69,\n",
              " 23,\n",
              " 45,\n",
              " 46,\n",
              " 78,\n",
              " 99,\n",
              " 100,\n",
              " 567,\n",
              " 1998,\n",
              " 34,\n",
              " 12,\n",
              " 11,\n",
              " 134,\n",
              " 234,\n",
              " 69,\n",
              " 78,\n",
              " 45,\n",
              " 2,\n",
              " 45,\n",
              " 23,\n",
              " 56,\n",
              " 89,\n",
              " 765,\n",
              " 90,\n",
              " 456,\n",
              " 678,\n",
              " 18,\n",
              " 8866,\n",
              " 9087,\n",
              " 768]"
            ]
          },
          "metadata": {},
          "execution_count": 41
        }
      ]
    },
    {
      "cell_type": "code",
      "source": [
        "l_ist.remove(13)"
      ],
      "metadata": {
        "colab": {
          "base_uri": "https://localhost:8080/",
          "height": 144
        },
        "id": "CQZH4PFaO1N9",
        "outputId": "f3a26422-9a2f-4289-e34f-68f085b6c155"
      },
      "execution_count": 42,
      "outputs": [
        {
          "output_type": "error",
          "ename": "ValueError",
          "evalue": "list.remove(x): x not in list",
          "traceback": [
            "\u001b[0;31m---------------------------------------------------------------------------\u001b[0m",
            "\u001b[0;31mValueError\u001b[0m                                Traceback (most recent call last)",
            "\u001b[0;32m/tmp/ipython-input-1781844678.py\u001b[0m in \u001b[0;36m<cell line: 0>\u001b[0;34m()\u001b[0m\n\u001b[0;32m----> 1\u001b[0;31m \u001b[0ml_ist\u001b[0m\u001b[0;34m.\u001b[0m\u001b[0mremove\u001b[0m\u001b[0;34m(\u001b[0m\u001b[0;36m13\u001b[0m\u001b[0;34m)\u001b[0m\u001b[0;34m\u001b[0m\u001b[0;34m\u001b[0m\u001b[0m\n\u001b[0m",
            "\u001b[0;31mValueError\u001b[0m: list.remove(x): x not in list"
          ]
        }
      ]
    },
    {
      "cell_type": "code",
      "source": [
        "l_ist.remove(12)"
      ],
      "metadata": {
        "id": "R-dkdJqTO4Tc"
      },
      "execution_count": 43,
      "outputs": []
    },
    {
      "cell_type": "code",
      "source": [
        "l_ist.remove(768)"
      ],
      "metadata": {
        "id": "YjigdWo8O6sr"
      },
      "execution_count": 44,
      "outputs": []
    },
    {
      "cell_type": "code",
      "source": [
        "l_ist.remove(99)"
      ],
      "metadata": {
        "id": "Iuy7JEYaO9IG"
      },
      "execution_count": 45,
      "outputs": []
    },
    {
      "cell_type": "code",
      "source": [
        "l_ist"
      ],
      "metadata": {
        "colab": {
          "base_uri": "https://localhost:8080/"
        },
        "id": "hLlgm_R6PCUV",
        "outputId": "c1539981-e4c7-4c8d-9d67-b3cd5dbb1bb3"
      },
      "execution_count": 46,
      "outputs": [
        {
          "output_type": "execute_result",
          "data": {
            "text/plain": [
              "[69,\n",
              " 23,\n",
              " 45,\n",
              " 46,\n",
              " 78,\n",
              " 100,\n",
              " 567,\n",
              " 1998,\n",
              " 34,\n",
              " 11,\n",
              " 134,\n",
              " 234,\n",
              " 69,\n",
              " 78,\n",
              " 45,\n",
              " 2,\n",
              " 45,\n",
              " 23,\n",
              " 56,\n",
              " 89,\n",
              " 765,\n",
              " 90,\n",
              " 456,\n",
              " 678,\n",
              " 18,\n",
              " 8866,\n",
              " 9087]"
            ]
          },
          "metadata": {},
          "execution_count": 46
        }
      ]
    },
    {
      "cell_type": "code",
      "source": [
        "# now suppose we want to remove an element from a particular index\n",
        "l_ist.pop(3)"
      ],
      "metadata": {
        "colab": {
          "base_uri": "https://localhost:8080/"
        },
        "id": "faCLvKNPPDOv",
        "outputId": "a846a8b2-02ca-45b1-bf37-7ba9c677efbd"
      },
      "execution_count": 47,
      "outputs": [
        {
          "output_type": "execute_result",
          "data": {
            "text/plain": [
              "46"
            ]
          },
          "metadata": {},
          "execution_count": 47
        }
      ]
    },
    {
      "cell_type": "code",
      "source": [
        "l_ist"
      ],
      "metadata": {
        "colab": {
          "base_uri": "https://localhost:8080/"
        },
        "id": "ce4GsvwiPKwU",
        "outputId": "046bfdd0-040b-4570-9ca8-c109162dfe4a"
      },
      "execution_count": 48,
      "outputs": [
        {
          "output_type": "execute_result",
          "data": {
            "text/plain": [
              "[69,\n",
              " 23,\n",
              " 45,\n",
              " 78,\n",
              " 100,\n",
              " 567,\n",
              " 1998,\n",
              " 34,\n",
              " 11,\n",
              " 134,\n",
              " 234,\n",
              " 69,\n",
              " 78,\n",
              " 45,\n",
              " 2,\n",
              " 45,\n",
              " 23,\n",
              " 56,\n",
              " 89,\n",
              " 765,\n",
              " 90,\n",
              " 456,\n",
              " 678,\n",
              " 18,\n",
              " 8866,\n",
              " 9087]"
            ]
          },
          "metadata": {},
          "execution_count": 48
        }
      ]
    },
    {
      "cell_type": "code",
      "source": [
        "l_ist.pop(7)"
      ],
      "metadata": {
        "colab": {
          "base_uri": "https://localhost:8080/"
        },
        "id": "wUVCmfRlPPSl",
        "outputId": "5c2b87a7-4330-4ffd-fb53-51d852a79a5f"
      },
      "execution_count": 49,
      "outputs": [
        {
          "output_type": "execute_result",
          "data": {
            "text/plain": [
              "34"
            ]
          },
          "metadata": {},
          "execution_count": 49
        }
      ]
    },
    {
      "cell_type": "code",
      "source": [
        "l_ist.pop(8)"
      ],
      "metadata": {
        "colab": {
          "base_uri": "https://localhost:8080/"
        },
        "id": "cAtdRl_uPRY_",
        "outputId": "2e23bbb9-db5c-4aad-f9fe-839b49c9cd80"
      },
      "execution_count": 50,
      "outputs": [
        {
          "output_type": "execute_result",
          "data": {
            "text/plain": [
              "134"
            ]
          },
          "metadata": {},
          "execution_count": 50
        }
      ]
    },
    {
      "cell_type": "code",
      "source": [
        "l_ist.pop(3)"
      ],
      "metadata": {
        "colab": {
          "base_uri": "https://localhost:8080/"
        },
        "id": "VXbjHajrPSyr",
        "outputId": "1b7e60ca-cd04-46f3-8b63-0f4027f96371"
      },
      "execution_count": 52,
      "outputs": [
        {
          "output_type": "execute_result",
          "data": {
            "text/plain": [
              "78"
            ]
          },
          "metadata": {},
          "execution_count": 52
        }
      ]
    },
    {
      "cell_type": "code",
      "source": [
        "l_ist.pop(8)"
      ],
      "metadata": {
        "colab": {
          "base_uri": "https://localhost:8080/"
        },
        "id": "9cS6ShL-PT2h",
        "outputId": "38d14ae5-6de9-4821-8bb1-f2aa6487fd3a"
      },
      "execution_count": 53,
      "outputs": [
        {
          "output_type": "execute_result",
          "data": {
            "text/plain": [
              "69"
            ]
          },
          "metadata": {},
          "execution_count": 53
        }
      ]
    },
    {
      "cell_type": "code",
      "source": [
        "print(l_ist[9])"
      ],
      "metadata": {
        "colab": {
          "base_uri": "https://localhost:8080/"
        },
        "id": "_iBnWjvkPYWZ",
        "outputId": "ea006102-c8ff-4b0a-cdd0-c0ab67ba6d35"
      },
      "execution_count": 55,
      "outputs": [
        {
          "output_type": "stream",
          "name": "stdout",
          "text": [
            "45\n"
          ]
        }
      ]
    },
    {
      "cell_type": "code",
      "source": [
        "# suppose we want the list to be sorted in the ascending order\n",
        "l_ist.sort()"
      ],
      "metadata": {
        "id": "I3P2p30bPfgv"
      },
      "execution_count": 56,
      "outputs": []
    },
    {
      "cell_type": "code",
      "source": [
        "l_ist"
      ],
      "metadata": {
        "colab": {
          "base_uri": "https://localhost:8080/"
        },
        "id": "QcX4aX71Pwdj",
        "outputId": "ba208c29-71df-4833-d362-7760eb7cbffa"
      },
      "execution_count": 57,
      "outputs": [
        {
          "output_type": "execute_result",
          "data": {
            "text/plain": [
              "[2,\n",
              " 11,\n",
              " 18,\n",
              " 23,\n",
              " 23,\n",
              " 45,\n",
              " 45,\n",
              " 45,\n",
              " 56,\n",
              " 69,\n",
              " 78,\n",
              " 89,\n",
              " 90,\n",
              " 100,\n",
              " 234,\n",
              " 456,\n",
              " 567,\n",
              " 678,\n",
              " 765,\n",
              " 1998,\n",
              " 8866,\n",
              " 9087]"
            ]
          },
          "metadata": {},
          "execution_count": 57
        }
      ]
    },
    {
      "cell_type": "code",
      "source": [
        "# suppose we want the list to be sorted in descending order\n",
        "l_ist.sort(reverse = True)"
      ],
      "metadata": {
        "id": "PiFW0H56P9CH"
      },
      "execution_count": 64,
      "outputs": []
    },
    {
      "cell_type": "code",
      "source": [
        "l_ist"
      ],
      "metadata": {
        "colab": {
          "base_uri": "https://localhost:8080/"
        },
        "id": "eNUZ2zaiQHEx",
        "outputId": "28154be3-6c2c-46ba-d51c-d3648f0ad8c0"
      },
      "execution_count": 65,
      "outputs": [
        {
          "output_type": "execute_result",
          "data": {
            "text/plain": [
              "[9087,\n",
              " 8866,\n",
              " 1998,\n",
              " 765,\n",
              " 678,\n",
              " 567,\n",
              " 456,\n",
              " 234,\n",
              " 100,\n",
              " 90,\n",
              " 89,\n",
              " 78,\n",
              " 69,\n",
              " 56,\n",
              " 45,\n",
              " 45,\n",
              " 45,\n",
              " 23,\n",
              " 23,\n",
              " 18,\n",
              " 11,\n",
              " 2]"
            ]
          },
          "metadata": {},
          "execution_count": 65
        }
      ]
    },
    {
      "cell_type": "code",
      "source": [
        "# suppose we want to reverse the list\n",
        "l_ist.reverse()"
      ],
      "metadata": {
        "id": "Fw_WLvebQld9"
      },
      "execution_count": 83,
      "outputs": []
    },
    {
      "cell_type": "code",
      "source": [
        "l_ist"
      ],
      "metadata": {
        "colab": {
          "base_uri": "https://localhost:8080/"
        },
        "id": "5kYqQTL1Q-rT",
        "outputId": "6fad2ac7-3cea-49eb-f4c7-ae7cc012e344"
      },
      "execution_count": 85,
      "outputs": [
        {
          "output_type": "execute_result",
          "data": {
            "text/plain": [
              "[2,\n",
              " 11,\n",
              " 18,\n",
              " 23,\n",
              " 23,\n",
              " 45,\n",
              " 45,\n",
              " 45,\n",
              " 56,\n",
              " 69,\n",
              " 78,\n",
              " 89,\n",
              " 90,\n",
              " 100,\n",
              " 234,\n",
              " 456,\n",
              " 567,\n",
              " 678,\n",
              " 765,\n",
              " 1998,\n",
              " 8866,\n",
              " 9087]"
            ]
          },
          "metadata": {},
          "execution_count": 85
        }
      ]
    },
    {
      "cell_type": "code",
      "source": [
        "# List Comprehensions\n",
        "\n",
        "# suppose we want to find the squares of first 5 numbers\n",
        "\n",
        "nums = [x ** 2 for x in range(5)]\n",
        "\n",
        "nums"
      ],
      "metadata": {
        "colab": {
          "base_uri": "https://localhost:8080/"
        },
        "id": "DrrvkkSaQ_g-",
        "outputId": "b0767952-cd33-40a6-a83b-f6582b4a2e4f"
      },
      "execution_count": 87,
      "outputs": [
        {
          "output_type": "execute_result",
          "data": {
            "text/plain": [
              "[0, 1, 4, 9, 16]"
            ]
          },
          "metadata": {},
          "execution_count": 87
        }
      ]
    },
    {
      "cell_type": "code",
      "source": [
        "# suppose we want to find the squares of first 10 numbers\n",
        "nums = [x**2 for x in range(10)]\n",
        "\n",
        "nums"
      ],
      "metadata": {
        "colab": {
          "base_uri": "https://localhost:8080/"
        },
        "id": "yUCcanaURe22",
        "outputId": "886f6a18-3f61-45f3-e8f1-fc92ea6a5929"
      },
      "execution_count": 88,
      "outputs": [
        {
          "output_type": "execute_result",
          "data": {
            "text/plain": [
              "[0, 1, 4, 9, 16, 25, 36, 49, 64, 81]"
            ]
          },
          "metadata": {},
          "execution_count": 88
        }
      ]
    },
    {
      "cell_type": "code",
      "source": [
        "# suppose we want to find the cube of first 10 numbers\n",
        "nums = [ x ** 3 for x in range(10)]\n",
        "\n",
        "nums"
      ],
      "metadata": {
        "colab": {
          "base_uri": "https://localhost:8080/"
        },
        "id": "JE9bTI5ARraY",
        "outputId": "d6f15634-0a41-4623-ae5e-6d4690c46b44"
      },
      "execution_count": 89,
      "outputs": [
        {
          "output_type": "execute_result",
          "data": {
            "text/plain": [
              "[0, 1, 8, 27, 64, 125, 216, 343, 512, 729]"
            ]
          },
          "metadata": {},
          "execution_count": 89
        }
      ]
    },
    {
      "cell_type": "code",
      "source": [
        "# suppose want to find the double of the first 12 numbers\n",
        "nums = [ x * 2 for x in range(12)]"
      ],
      "metadata": {
        "id": "9xmN8T_VR1Ot"
      },
      "execution_count": 92,
      "outputs": []
    },
    {
      "cell_type": "code",
      "source": [
        "nums"
      ],
      "metadata": {
        "colab": {
          "base_uri": "https://localhost:8080/"
        },
        "id": "9LTR3o3zR_iz",
        "outputId": "98a8f358-d0c1-45df-be1b-ae2ea4791c44"
      },
      "execution_count": 93,
      "outputs": [
        {
          "output_type": "execute_result",
          "data": {
            "text/plain": [
              "[0, 2, 4, 6, 8, 10, 12, 14, 16, 18, 20, 22]"
            ]
          },
          "metadata": {},
          "execution_count": 93
        }
      ]
    },
    {
      "cell_type": "code",
      "source": [],
      "metadata": {
        "id": "QLhKNhYSSAHz"
      },
      "execution_count": null,
      "outputs": []
    },
    {
      "cell_type": "markdown",
      "source": [
        "### Exercise\n",
        "Now lets solve some problems to help us understand the concepts\n",
        "\n",
        "Lets first begin with the easy problems"
      ],
      "metadata": {
        "id": "e7fcce7SSK7M"
      }
    },
    {
      "cell_type": "code",
      "source": [
        "# Problem - 1 : Create a list and print it\n",
        "\n",
        "nums = [12, 34, 45, 56, 43, 21, 99]\n",
        "\n",
        "print(nums)"
      ],
      "metadata": {
        "colab": {
          "base_uri": "https://localhost:8080/"
        },
        "id": "KxdxPUa6SUaW",
        "outputId": "c5962ba6-fe6c-424d-9e4f-8bffe52aaaf6"
      },
      "execution_count": 94,
      "outputs": [
        {
          "output_type": "stream",
          "name": "stdout",
          "text": [
            "[12, 34, 45, 56, 43, 21, 99]\n"
          ]
        }
      ]
    },
    {
      "cell_type": "code",
      "source": [
        "# Problem - 2 : Create a list with mixed data types and find the length of the list\n",
        "\n",
        "l_ist = ['gaurav', 123, 6.7, 89, 0.87, 'patil']\n",
        "\n",
        "print(l_ist)\n",
        "\n",
        "len(l_ist)"
      ],
      "metadata": {
        "colab": {
          "base_uri": "https://localhost:8080/"
        },
        "id": "liBm7ZI0SpXv",
        "outputId": "d3654aee-c68b-4e56-c0c4-3a7f08c55b5a"
      },
      "execution_count": 96,
      "outputs": [
        {
          "output_type": "stream",
          "name": "stdout",
          "text": [
            "['gaurav', 123, 6.7, 89, 0.87, 'patil']\n"
          ]
        },
        {
          "output_type": "execute_result",
          "data": {
            "text/plain": [
              "6"
            ]
          },
          "metadata": {},
          "execution_count": 96
        }
      ]
    },
    {
      "cell_type": "code",
      "source": [
        "# Problem - 3 : Create a list of the numbers from 1 - 10 using range\n",
        "nums = [x for x in range(11)]\n",
        "\n",
        "nums"
      ],
      "metadata": {
        "colab": {
          "base_uri": "https://localhost:8080/"
        },
        "id": "KZiY9kPqS3h1",
        "outputId": "3b380f41-69fb-447e-b5c9-3e47e6ee8aae"
      },
      "execution_count": 106,
      "outputs": [
        {
          "output_type": "execute_result",
          "data": {
            "text/plain": [
              "[0, 1, 2, 3, 4, 5, 6, 7, 8, 9, 10]"
            ]
          },
          "metadata": {},
          "execution_count": 106
        }
      ]
    },
    {
      "cell_type": "code",
      "source": [
        "# Problem - 4 : now access the first and last element of the list\n",
        "\n",
        "nums[-1]"
      ],
      "metadata": {
        "colab": {
          "base_uri": "https://localhost:8080/"
        },
        "id": "TJOX55o9TYgf",
        "outputId": "4db4a079-1abe-45f0-cfe4-d864921c2c77"
      },
      "execution_count": 107,
      "outputs": [
        {
          "output_type": "execute_result",
          "data": {
            "text/plain": [
              "10"
            ]
          },
          "metadata": {},
          "execution_count": 107
        }
      ]
    },
    {
      "cell_type": "code",
      "source": [
        "nums[0]"
      ],
      "metadata": {
        "colab": {
          "base_uri": "https://localhost:8080/"
        },
        "id": "qvFuMaVuTlm4",
        "outputId": "e3c1a1ae-666f-477d-d454-11c9ceedf5c9"
      },
      "execution_count": 108,
      "outputs": [
        {
          "output_type": "execute_result",
          "data": {
            "text/plain": [
              "0"
            ]
          },
          "metadata": {},
          "execution_count": 108
        }
      ]
    },
    {
      "cell_type": "code",
      "source": [
        "# Problem - 5 : replace the third element in the list by 99\n",
        "nums[3] = 99"
      ],
      "metadata": {
        "id": "-eHOZ4G6TrBP"
      },
      "execution_count": 111,
      "outputs": []
    },
    {
      "cell_type": "code",
      "source": [
        "nums"
      ],
      "metadata": {
        "colab": {
          "base_uri": "https://localhost:8080/"
        },
        "id": "tvhvZMiVTxWW",
        "outputId": "5b1f173a-a6ef-4bd1-cdf6-4e5a94bc5752"
      },
      "execution_count": 112,
      "outputs": [
        {
          "output_type": "execute_result",
          "data": {
            "text/plain": [
              "[0, 1, 2, 99, 4, 5, 6, 7, 8, 9, 10]"
            ]
          },
          "metadata": {},
          "execution_count": 112
        }
      ]
    },
    {
      "cell_type": "code",
      "source": [
        "# Problem - 6 : Create a list of numbers from 1 - 10 and print only the even numbers\n",
        "l1 = [x for x in range(11)]\n",
        "\n",
        "l1"
      ],
      "metadata": {
        "colab": {
          "base_uri": "https://localhost:8080/"
        },
        "id": "EQjJHIYBUDkI",
        "outputId": "3d911d4e-a24f-4b06-b4b2-d019ede79baa"
      },
      "execution_count": 113,
      "outputs": [
        {
          "output_type": "execute_result",
          "data": {
            "text/plain": [
              "[0, 1, 2, 3, 4, 5, 6, 7, 8, 9, 10]"
            ]
          },
          "metadata": {},
          "execution_count": 113
        }
      ]
    },
    {
      "cell_type": "code",
      "source": [
        "# create an empty list and store all even numbers from the list and print the new list\n",
        "even = []\n",
        "\n",
        "for num in l1:\n",
        "  if num % 2 == 0:\n",
        "    even.append(num)\n",
        "\n",
        "even"
      ],
      "metadata": {
        "colab": {
          "base_uri": "https://localhost:8080/"
        },
        "id": "MlmP1dUAUeCs",
        "outputId": "9f3cc82c-0067-48c0-e60e-8ff3accadf63"
      },
      "execution_count": 118,
      "outputs": [
        {
          "output_type": "execute_result",
          "data": {
            "text/plain": [
              "[0, 2, 4, 6, 8, 10]"
            ]
          },
          "metadata": {},
          "execution_count": 118
        }
      ]
    },
    {
      "cell_type": "code",
      "source": [
        "# create an empty list and store the cube of the numbers and print the new list\n",
        "cube = []\n",
        "\n",
        "for num in l1:\n",
        "  cube.append(num ** 3)\n",
        "\n",
        "cube"
      ],
      "metadata": {
        "colab": {
          "base_uri": "https://localhost:8080/"
        },
        "id": "-oehMWgfUlN8",
        "outputId": "ac4294bd-2985-44e9-cc22-04ac47b138e7"
      },
      "execution_count": 119,
      "outputs": [
        {
          "output_type": "execute_result",
          "data": {
            "text/plain": [
              "[0, 1, 8, 27, 64, 125, 216, 343, 512, 729, 1000]"
            ]
          },
          "metadata": {},
          "execution_count": 119
        }
      ]
    },
    {
      "cell_type": "code",
      "source": [
        "# create an empty list and store double the value of the numbers and print it\n",
        "double = []\n",
        "\n",
        "for num in l1:\n",
        "  double.append(num * 2)\n",
        "\n",
        "double"
      ],
      "metadata": {
        "colab": {
          "base_uri": "https://localhost:8080/"
        },
        "id": "IRVqdgthV_oa",
        "outputId": "e11ca689-efb7-4c66-de40-a916170fd7c3"
      },
      "execution_count": 120,
      "outputs": [
        {
          "output_type": "execute_result",
          "data": {
            "text/plain": [
              "[0, 2, 4, 6, 8, 10, 12, 14, 16, 18, 20]"
            ]
          },
          "metadata": {},
          "execution_count": 120
        }
      ]
    },
    {
      "cell_type": "code",
      "source": [
        "# The following is a list and your task is to find the odd numbers and even numbers from the list and store print them in ascending order\n",
        "# and descending order respectively\n",
        "\n",
        "nums = [69,23,45,46,78,103,567,1997,34,11,133,235,69,78,45,2,47,23,56,89,765,90,1567,678,18,8866,9087]\n",
        "\n",
        "# create 2 empty lists to store the even and odd numbers\n",
        "odd_num = []\n",
        "even_num = []\n",
        "\n",
        "for x in nums:\n",
        "  if x % 2 == 0:\n",
        "    even_num.append(x)\n",
        "  else:\n",
        "    odd_num.append(x)\n",
        "\n",
        "odd_num.sort()\n",
        "print(odd_num)\n",
        "\n",
        "even_num.sort(reverse = True)\n",
        "print(even_num)\n"
      ],
      "metadata": {
        "colab": {
          "base_uri": "https://localhost:8080/"
        },
        "id": "oVDB_wr2WNq7",
        "outputId": "febbfb1f-e98d-412a-9bf4-a7a59d0ae74a"
      },
      "execution_count": 122,
      "outputs": [
        {
          "output_type": "stream",
          "name": "stdout",
          "text": [
            "[11, 23, 23, 45, 45, 47, 69, 69, 89, 103, 133, 235, 567, 765, 1567, 1997, 9087]\n",
            "[8866, 678, 90, 78, 78, 56, 46, 34, 18, 2]\n"
          ]
        }
      ]
    },
    {
      "cell_type": "code",
      "source": [
        "# Reverse a list with using reverse\n",
        "\n",
        "print(odd_num[::-1])"
      ],
      "metadata": {
        "colab": {
          "base_uri": "https://localhost:8080/"
        },
        "id": "FBeCBJK3Xd2F",
        "outputId": "73034d30-0c2a-47f8-9580-8cd6c0091858"
      },
      "execution_count": 124,
      "outputs": [
        {
          "output_type": "stream",
          "name": "stdout",
          "text": [
            "[9087, 1997, 1567, 765, 567, 235, 133, 103, 89, 69, 69, 47, 45, 45, 23, 23, 11]\n"
          ]
        }
      ]
    },
    {
      "cell_type": "code",
      "source": [
        "# Add new 3 items to the list\n",
        "nums.extend([10, 20, 30])"
      ],
      "metadata": {
        "id": "lz6vaMHGXtZp"
      },
      "execution_count": 126,
      "outputs": []
    },
    {
      "cell_type": "code",
      "source": [
        "nums\n"
      ],
      "metadata": {
        "colab": {
          "base_uri": "https://localhost:8080/"
        },
        "id": "BLiG1iM2X_38",
        "outputId": "57e1fb0b-d11c-48b6-97f2-13d3d10741d1"
      },
      "execution_count": 127,
      "outputs": [
        {
          "output_type": "execute_result",
          "data": {
            "text/plain": [
              "[69,\n",
              " 23,\n",
              " 45,\n",
              " 46,\n",
              " 78,\n",
              " 103,\n",
              " 567,\n",
              " 1997,\n",
              " 34,\n",
              " 11,\n",
              " 133,\n",
              " 235,\n",
              " 69,\n",
              " 78,\n",
              " 45,\n",
              " 2,\n",
              " 47,\n",
              " 23,\n",
              " 56,\n",
              " 89,\n",
              " 765,\n",
              " 90,\n",
              " 1567,\n",
              " 678,\n",
              " 18,\n",
              " 8866,\n",
              " 9087,\n",
              " 10,\n",
              " 20,\n",
              " 30]"
            ]
          },
          "metadata": {},
          "execution_count": 127
        }
      ]
    },
    {
      "cell_type": "code",
      "source": [
        "nums.insert(2, 79)"
      ],
      "metadata": {
        "id": "InfbM2mXYKhQ"
      },
      "execution_count": 128,
      "outputs": []
    },
    {
      "cell_type": "code",
      "source": [
        "nums"
      ],
      "metadata": {
        "colab": {
          "base_uri": "https://localhost:8080/"
        },
        "id": "4I3Tzg8WYSJs",
        "outputId": "9936d04d-0376-4215-ab4d-e9dadf5c37b4"
      },
      "execution_count": 129,
      "outputs": [
        {
          "output_type": "execute_result",
          "data": {
            "text/plain": [
              "[69,\n",
              " 23,\n",
              " 79,\n",
              " 45,\n",
              " 46,\n",
              " 78,\n",
              " 103,\n",
              " 567,\n",
              " 1997,\n",
              " 34,\n",
              " 11,\n",
              " 133,\n",
              " 235,\n",
              " 69,\n",
              " 78,\n",
              " 45,\n",
              " 2,\n",
              " 47,\n",
              " 23,\n",
              " 56,\n",
              " 89,\n",
              " 765,\n",
              " 90,\n",
              " 1567,\n",
              " 678,\n",
              " 18,\n",
              " 8866,\n",
              " 9087,\n",
              " 10,\n",
              " 20,\n",
              " 30]"
            ]
          },
          "metadata": {},
          "execution_count": 129
        }
      ]
    },
    {
      "cell_type": "code",
      "source": [
        "nums.remove(69)"
      ],
      "metadata": {
        "id": "MO7n0v2-YSuo"
      },
      "execution_count": 131,
      "outputs": []
    },
    {
      "cell_type": "code",
      "source": [
        "nums"
      ],
      "metadata": {
        "colab": {
          "base_uri": "https://localhost:8080/"
        },
        "id": "njiNe-TaYYw2",
        "outputId": "23f87411-2873-46bb-fee9-96009fa4cf20"
      },
      "execution_count": 132,
      "outputs": [
        {
          "output_type": "execute_result",
          "data": {
            "text/plain": [
              "[23,\n",
              " 79,\n",
              " 45,\n",
              " 46,\n",
              " 78,\n",
              " 103,\n",
              " 567,\n",
              " 1997,\n",
              " 34,\n",
              " 11,\n",
              " 133,\n",
              " 235,\n",
              " 69,\n",
              " 78,\n",
              " 45,\n",
              " 2,\n",
              " 47,\n",
              " 23,\n",
              " 56,\n",
              " 89,\n",
              " 765,\n",
              " 90,\n",
              " 1567,\n",
              " 678,\n",
              " 18,\n",
              " 8866,\n",
              " 9087,\n",
              " 10,\n",
              " 20,\n",
              " 30]"
            ]
          },
          "metadata": {},
          "execution_count": 132
        }
      ]
    },
    {
      "cell_type": "code",
      "source": [
        "# Check if 69 exists in the list\n",
        "print(69 in nums)"
      ],
      "metadata": {
        "colab": {
          "base_uri": "https://localhost:8080/"
        },
        "id": "IRa4xXEyYeie",
        "outputId": "3fdba239-a7e7-4c1f-9cf2-e288407863e4"
      },
      "execution_count": 133,
      "outputs": [
        {
          "output_type": "stream",
          "name": "stdout",
          "text": [
            "True\n"
          ]
        }
      ]
    },
    {
      "cell_type": "code",
      "source": [
        "# check if 109 exits in the list\n",
        "print(109 in nums)"
      ],
      "metadata": {
        "colab": {
          "base_uri": "https://localhost:8080/"
        },
        "id": "Qwf70ZezYs25",
        "outputId": "aca5443b-ce29-4044-adb1-8d17ee6addf6"
      },
      "execution_count": 134,
      "outputs": [
        {
          "output_type": "stream",
          "name": "stdout",
          "text": [
            "False\n"
          ]
        }
      ]
    },
    {
      "cell_type": "code",
      "source": [
        "# check if 9876 exist in the list\n",
        "print(9876 in nums)"
      ],
      "metadata": {
        "colab": {
          "base_uri": "https://localhost:8080/"
        },
        "id": "-qLEQSBhYxzb",
        "outputId": "b23e09aa-aacc-4db1-d18c-db64e76bd5b4"
      },
      "execution_count": 135,
      "outputs": [
        {
          "output_type": "stream",
          "name": "stdout",
          "text": [
            "False\n"
          ]
        }
      ]
    },
    {
      "cell_type": "code",
      "source": [
        "nums.count(69)"
      ],
      "metadata": {
        "colab": {
          "base_uri": "https://localhost:8080/"
        },
        "id": "dy4AkaeVaKrp",
        "outputId": "e4cc4df0-d7d0-474b-cb3f-7550d66f4e79"
      },
      "execution_count": 136,
      "outputs": [
        {
          "output_type": "execute_result",
          "data": {
            "text/plain": [
              "1"
            ]
          },
          "metadata": {},
          "execution_count": 136
        }
      ]
    },
    {
      "cell_type": "code",
      "source": [
        "nums.count(45)"
      ],
      "metadata": {
        "colab": {
          "base_uri": "https://localhost:8080/"
        },
        "id": "gJtFR-W1aRrm",
        "outputId": "52cea5a6-8775-46e8-c9ac-32e70a630270"
      },
      "execution_count": 137,
      "outputs": [
        {
          "output_type": "execute_result",
          "data": {
            "text/plain": [
              "2"
            ]
          },
          "metadata": {},
          "execution_count": 137
        }
      ]
    },
    {
      "cell_type": "code",
      "source": [
        "# Create a list of squares from 1 to 10 using list comprehension\n",
        "nums = [x**2 for x in range(1, 11)]\n",
        "\n",
        "nums"
      ],
      "metadata": {
        "colab": {
          "base_uri": "https://localhost:8080/"
        },
        "id": "mSoxgakYaVOv",
        "outputId": "3ff1f05f-9c92-4875-af76-fde3be7d9e3b"
      },
      "execution_count": 138,
      "outputs": [
        {
          "output_type": "execute_result",
          "data": {
            "text/plain": [
              "[1, 4, 9, 16, 25, 36, 49, 64, 81, 100]"
            ]
          },
          "metadata": {},
          "execution_count": 138
        }
      ]
    },
    {
      "cell_type": "code",
      "source": [
        "# create a list of cubes from 1 to 20 using list comprehension\n",
        "nums = [x ** 3 for x in range(1, 21)]\n",
        "\n",
        "nums"
      ],
      "metadata": {
        "colab": {
          "base_uri": "https://localhost:8080/"
        },
        "id": "AmRO6ILZaqGP",
        "outputId": "164114d1-d85b-4a71-bd0b-83d36f989d24"
      },
      "execution_count": 139,
      "outputs": [
        {
          "output_type": "execute_result",
          "data": {
            "text/plain": [
              "[1,\n",
              " 8,\n",
              " 27,\n",
              " 64,\n",
              " 125,\n",
              " 216,\n",
              " 343,\n",
              " 512,\n",
              " 729,\n",
              " 1000,\n",
              " 1331,\n",
              " 1728,\n",
              " 2197,\n",
              " 2744,\n",
              " 3375,\n",
              " 4096,\n",
              " 4913,\n",
              " 5832,\n",
              " 6859,\n",
              " 8000]"
            ]
          },
          "metadata": {},
          "execution_count": 139
        }
      ]
    },
    {
      "cell_type": "code",
      "source": [
        "# From a list of numbers, create a new list containing odd numbers\n",
        "\n",
        "nums = [2, 3, 56, 4, 43, 67, 78, 89, 88, 765, 456, 543, 45, 68, 899, 900, 232]\n",
        "\n",
        "odd_nums = []\n",
        "\n",
        "for num in nums:\n",
        "  if num % 2 != 0:\n",
        "    odd_nums.append(num)\n",
        "\n",
        "odd_nums"
      ],
      "metadata": {
        "colab": {
          "base_uri": "https://localhost:8080/"
        },
        "id": "mMlvt3Mya05d",
        "outputId": "a8bf266c-d07d-425c-a47b-f5219944fdd6"
      },
      "execution_count": 140,
      "outputs": [
        {
          "output_type": "execute_result",
          "data": {
            "text/plain": [
              "[3, 43, 67, 89, 765, 543, 45, 899]"
            ]
          },
          "metadata": {},
          "execution_count": 140
        }
      ]
    },
    {
      "cell_type": "code",
      "source": [
        "# Create a 3x3 matrix and access the middle element from the middle one\n",
        "\n",
        "matrix = [[2,3,4], [4,6,7], [7,8,9]]\n",
        "\n",
        "matrix[1][1]"
      ],
      "metadata": {
        "colab": {
          "base_uri": "https://localhost:8080/"
        },
        "id": "OtclNEj2bsJj",
        "outputId": "c251cc38-417b-4f1f-a478-b4fd63278542"
      },
      "execution_count": 142,
      "outputs": [
        {
          "output_type": "execute_result",
          "data": {
            "text/plain": [
              "6"
            ]
          },
          "metadata": {},
          "execution_count": 142
        }
      ]
    },
    {
      "cell_type": "code",
      "source": [],
      "metadata": {
        "id": "neTJchCSc7_A"
      },
      "execution_count": null,
      "outputs": []
    }
  ]
}