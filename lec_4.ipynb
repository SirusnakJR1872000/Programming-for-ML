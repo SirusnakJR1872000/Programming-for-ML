{
  "nbformat": 4,
  "nbformat_minor": 0,
  "metadata": {
    "colab": {
      "provenance": []
    },
    "kernelspec": {
      "name": "python3",
      "display_name": "Python 3"
    },
    "language_info": {
      "name": "python"
    }
  },
  "cells": [
    {
      "cell_type": "markdown",
      "source": [],
      "metadata": {
        "id": "9B4RmiAaECKm"
      }
    },
    {
      "cell_type": "markdown",
      "source": [
        "# Objects\n",
        "\n",
        "## Everything in python is an object.\n",
        "\n",
        "## Typically an object has:\n",
        "\n",
        "### Some state/data.\n",
        "\n",
        "### Provides methods for functionality.\n",
        "\n",
        "### Provides interfaces so you can interact with it.\n",
        "\n"
      ],
      "metadata": {
        "id": "7P2425RYEFXn"
      }
    },
    {
      "cell_type": "markdown",
      "source": [
        "# Mutable and Immutable\n",
        "\n",
        "## Two broad categories for all objects:\n",
        " ### Immutable : cannot be changed\n",
        " ### Mutable : can be changed\n",
        "\n",
        "### Immutable objects: numbers, strings, tuples\n",
        "### Mutable: list, dict, set"
      ],
      "metadata": {
        "id": "cv1b5gc-Eu9A"
      }
    },
    {
      "cell_type": "markdown",
      "source": [
        "# Some built in data types\n",
        "\n",
        "## Numerical types:\n",
        "### Integers: int, these are arbitrary precision\n",
        "### Floats: float, double precision 64 bits\n",
        "### Complex: 1 + 2j, complex(1, 2)\n",
        "\n"
      ],
      "metadata": {
        "id": "4Hqt4bpGFaft"
      }
    },
    {
      "cell_type": "code",
      "execution_count": 2,
      "metadata": {
        "colab": {
          "base_uri": "https://localhost:8080/"
        },
        "id": "UuewzxM-BTZe",
        "outputId": "f0b5636b-ccf5-47a3-9d9c-6549f557a2b5"
      },
      "outputs": [
        {
          "output_type": "stream",
          "name": "stdout",
          "text": [
            "2.6627053911388696 (2.2-1.5j)\n"
          ]
        }
      ],
      "source": [
        "x = complex(2.2, 1.5)\n",
        "print(abs(x), x.conjugate())"
      ]
    },
    {
      "cell_type": "markdown",
      "source": [
        "## Booleans: True/False\n",
        "\n",
        "\n",
        "## Sequence types:\n",
        "\n",
        "### Lists: list, []:mutable\n",
        "### Tuples: tuple, ():immutable\n",
        "### Strings: str: 'hello', \"hello\", '''hello''': immutable\n",
        "### Sets: set: behaves like a mathematical set: mutable\n",
        "### Range: range: immutable\n",
        "\n",
        "\n",
        "## Dictionaries: dict, {key: value}\n",
        "\n",
        "\n",
        "## Tuples : x = (1, 21.2, 'hello')\n",
        "### cannot be changed, no append\n",
        "### if it conatins a list, the list can change\n",
        "### used when returning multiple values from a list"
      ],
      "metadata": {
        "id": "1w5OKlhCI-6V"
      }
    },
    {
      "cell_type": "markdown",
      "source": [
        "# Operators\n",
        "\n",
        "## Arithmetic but not always(lists)\n",
        "\n",
        "## Arithmetic: +, -, *, /, //, %\n",
        "\n",
        "## @ is used for matrix multiplication\n",
        "\n",
        "## Logical: not, or, and\n",
        "\n",
        "## Comparison: <, >, <=, >=, !=\n",
        "\n",
        "## Identity: is, is not\n",
        "\n",
        "## Containership: in, not in\n",
        "\n",
        "## Assignment: x = 10\n",
        "  ### Augemnted assignments: x += 1.0\n",
        "\n",
        "## Bitwise operators: &, |, ^, ~, <<, >>(and, or, xor, not, lef/right shift)\n",
        "\n",
        "## Don't remember operator precedence, use brackets"
      ],
      "metadata": {
        "id": "pdvcAucWJJvF"
      }
    },
    {
      "cell_type": "code",
      "source": [
        "### Identity\n",
        "x = 2\n",
        "y = 1 + 1\n",
        "x is y\n",
        "### This is an equality in terms of identity not the value"
      ],
      "metadata": {
        "colab": {
          "base_uri": "https://localhost:8080/"
        },
        "id": "C2G1R7HAKpeG",
        "outputId": "84fb5890-0681-49d0-ce31-7d1ddda0ba48"
      },
      "execution_count": 7,
      "outputs": [
        {
          "output_type": "execute_result",
          "data": {
            "text/plain": [
              "True"
            ]
          },
          "metadata": {},
          "execution_count": 7
        }
      ]
    },
    {
      "cell_type": "code",
      "source": [
        "### Containership\n",
        "x = ['hello', 'world']\n",
        "'hello' in x"
      ],
      "metadata": {
        "colab": {
          "base_uri": "https://localhost:8080/"
        },
        "id": "G9JdWFA0KzOl",
        "outputId": "e5a81665-65c3-4085-d967-4888f899f2ed"
      },
      "execution_count": 8,
      "outputs": [
        {
          "output_type": "execute_result",
          "data": {
            "text/plain": [
              "True"
            ]
          },
          "metadata": {},
          "execution_count": 8
        }
      ]
    },
    {
      "cell_type": "code",
      "source": [
        "x = 'hello world'\n",
        "\n",
        "'ello' in x"
      ],
      "metadata": {
        "colab": {
          "base_uri": "https://localhost:8080/"
        },
        "id": "9Sov_CMBLKhn",
        "outputId": "47745265-f895-4fbf-9e9d-bcf3b26e26cb"
      },
      "execution_count": 9,
      "outputs": [
        {
          "output_type": "execute_result",
          "data": {
            "text/plain": [
              "True"
            ]
          },
          "metadata": {},
          "execution_count": 9
        }
      ]
    },
    {
      "cell_type": "markdown",
      "source": [
        "# Indexing / Slicing\n",
        "\n",
        "## Use square brackets: x[0]\n",
        "\n",
        "## Indices start at 0 to len(x) - 1\n",
        "\n",
        "## Slices produce same kind of container:\n",
        "  ### x [start : stop : step]\n",
        "\n",
        "  ### stop is not included\n",
        "\n",
        "  ### when not specified stop us len(x)\n",
        "\n",
        "  ### when not specified step is 1\n",
        "\n",
        "## Dictionaries support non-integer 'indices' called keys"
      ],
      "metadata": {
        "id": "o8sxS10YLV1s"
      }
    },
    {
      "cell_type": "markdown",
      "source": [
        "# Loops\n",
        "\n",
        "## for , while\n",
        "\n",
        "## Use break to exit the current loop\n",
        "\n",
        "## Use continue to skip execution until the end of the block"
      ],
      "metadata": {
        "id": "Mu1gXoPmMLY6"
      }
    },
    {
      "cell_type": "markdown",
      "source": [
        "# Variables in Python\n",
        "\n",
        "## Names bound to objects: namespace\n",
        "\n",
        "## Assignment performs this binding: x = 1\n",
        "\n",
        "## The easy case (immutable obejct):"
      ],
      "metadata": {
        "id": "MzIYUYEQNFZ6"
      }
    },
    {
      "cell_type": "code",
      "source": [
        "x = 1\n",
        "y = x\n",
        "del x\n",
        "print(y)"
      ],
      "metadata": {
        "colab": {
          "base_uri": "https://localhost:8080/"
        },
        "id": "8awAD8ngMsLy",
        "outputId": "247e23ec-3051-40ee-f88b-1e83a8e1bee3"
      },
      "execution_count": 11,
      "outputs": [
        {
          "output_type": "stream",
          "name": "stdout",
          "text": [
            "1\n"
          ]
        }
      ]
    },
    {
      "cell_type": "code",
      "source": [
        "x = 1\n",
        "y = x\n",
        "x += 1\n",
        "print(y)"
      ],
      "metadata": {
        "colab": {
          "base_uri": "https://localhost:8080/"
        },
        "id": "rT2Fi0guNYf6",
        "outputId": "12fe9939-4d62-4127-bacc-b73ed561b833"
      },
      "execution_count": 12,
      "outputs": [
        {
          "output_type": "stream",
          "name": "stdout",
          "text": [
            "1\n"
          ]
        }
      ]
    },
    {
      "cell_type": "code",
      "source": [
        "print(x)"
      ],
      "metadata": {
        "colab": {
          "base_uri": "https://localhost:8080/"
        },
        "id": "Xl5iT2y0N03b",
        "outputId": "7b979154-1f82-4f82-eb4f-8b88a717613f"
      },
      "execution_count": 13,
      "outputs": [
        {
          "output_type": "stream",
          "name": "stdout",
          "text": [
            "2\n"
          ]
        }
      ]
    },
    {
      "cell_type": "code",
      "source": [
        "x = [1, 2, 3]\n",
        "y = x\n",
        "x.append(4)\n",
        "print(y)"
      ],
      "metadata": {
        "colab": {
          "base_uri": "https://localhost:8080/"
        },
        "id": "gZD7SJ78N3U1",
        "outputId": "e0ae3434-e855-4582-bb95-82e28e4af687"
      },
      "execution_count": 14,
      "outputs": [
        {
          "output_type": "stream",
          "name": "stdout",
          "text": [
            "[1, 2, 3, 4]\n"
          ]
        }
      ]
    },
    {
      "cell_type": "markdown",
      "source": [
        "# Functions\n",
        "\n",
        "## Abstraction with functions\n",
        "\n",
        "### Functions facilitate reuse\n",
        "\n",
        "### Functions with no return implicitly return None"
      ],
      "metadata": {
        "id": "Thb7zNWqRYji"
      }
    },
    {
      "cell_type": "code",
      "source": [
        "def func(x, y):\n",
        "  \"\"\" docstring\"\"\"\n",
        "  # ...\n",
        "  return x * y # Optional"
      ],
      "metadata": {
        "id": "kfSx_T8eOHfT"
      },
      "execution_count": 15,
      "outputs": []
    },
    {
      "cell_type": "markdown",
      "source": [
        "### Lambda (anonymous functions) are possible"
      ],
      "metadata": {
        "id": "xyZ-sWJpR0cC"
      }
    },
    {
      "cell_type": "code",
      "source": [
        "func = lambda x, y: x*y"
      ],
      "metadata": {
        "id": "UjThJwVIRy-v"
      },
      "execution_count": 16,
      "outputs": []
    },
    {
      "cell_type": "markdown",
      "source": [
        "# Defualt and keyword arguments\n",
        "\n",
        "## Note that defaults are evaulated only once"
      ],
      "metadata": {
        "id": "-3Jqu4cYSYzZ"
      }
    },
    {
      "cell_type": "markdown",
      "source": [
        "# Special Parameters\n",
        "\n",
        "## Positional only and keyword only arguments\n",
        "\n",
        "### def f(pos1, pos2, /, pos_or_kwd, *, kw1, kw2):\n"
      ],
      "metadata": {
        "id": "eHPqlWfQSoxR"
      }
    },
    {
      "cell_type": "code",
      "source": [
        "def normal_arg(arg):\n",
        "  print(arg)"
      ],
      "metadata": {
        "id": "rnc9Q9DKSYgq"
      },
      "execution_count": 17,
      "outputs": []
    },
    {
      "cell_type": "code",
      "source": [
        "def pos_only_arg(arg, /):\n",
        "  print(arg)"
      ],
      "metadata": {
        "id": "BK16lxLiR9pc"
      },
      "execution_count": 18,
      "outputs": []
    },
    {
      "cell_type": "code",
      "source": [
        "def kwd_only_arg(*, arg):\n",
        "  print(arg)"
      ],
      "metadata": {
        "id": "1o-I-SKATHPE"
      },
      "execution_count": 19,
      "outputs": []
    },
    {
      "cell_type": "code",
      "source": [
        "def combined(pos_only, /, standard, *, kwd_only):\n",
        "  print(pos_only, standard, kwd_only)"
      ],
      "metadata": {
        "id": "j82VQ8R8TK17"
      },
      "execution_count": 25,
      "outputs": []
    },
    {
      "cell_type": "markdown",
      "source": [
        "# Some patterns\n",
        "\n",
        "### Use None as a default argument with mutable defaults\n",
        "### Also to detect if someone passed an argument ot not"
      ],
      "metadata": {
        "id": "kgdXiB0rTL70"
      }
    },
    {
      "cell_type": "code",
      "source": [
        "def f(x, y=None):\n",
        "  if y is None:\n",
        "    y = []"
      ],
      "metadata": {
        "id": "0cQQIKXcTWSk"
      },
      "execution_count": 26,
      "outputs": []
    },
    {
      "cell_type": "markdown",
      "source": [
        "# Functions are 'First Class' Objects\n",
        "\n",
        "### They can be treated like any other value\n",
        "\n",
        "### Can be bound to a name\n",
        "\n",
        "### Can be passed to a function"
      ],
      "metadata": {
        "id": "ooLdDRiETYjn"
      }
    },
    {
      "cell_type": "code",
      "source": [
        "import numpy as np\n",
        "\n",
        "def improve(update, close, guess = 1):\n",
        "  while not close(guess):\n",
        "    guess = update(guess)\n",
        "  return guess\n",
        "\n",
        "def update(guess):\n",
        "  return 1/guess + 1\n",
        "\n",
        "improve(update, close=lambda g: np.allclose(g*g, g+1))"
      ],
      "metadata": {
        "colab": {
          "base_uri": "https://localhost:8080/"
        },
        "id": "7HauDM0oTmX_",
        "outputId": "e7b8ce8c-b804-4e13-bbac-ea13906a48f0"
      },
      "execution_count": 20,
      "outputs": [
        {
          "output_type": "execute_result",
          "data": {
            "text/plain": [
              "1.6180257510729614"
            ]
          },
          "metadata": {},
          "execution_count": 20
        }
      ]
    },
    {
      "cell_type": "markdown",
      "source": [
        "# Variable Scope\n",
        "\n",
        "## Fucntions introduce a new name space\n",
        "  ### Function arguments and variables inside function\n",
        "## Arguments passed by reference"
      ],
      "metadata": {
        "id": "BD6dAZVnUEYV"
      }
    },
    {
      "cell_type": "code",
      "source": [
        "x, y = [1, 2], 1\n",
        "\n",
        "def f(x):\n",
        "  z = 10\n",
        "  x.append(3)\n",
        "  print(x, y) # Private x, global y\n",
        "\n",
        "f(x)\n",
        "print(x, y) # z is not available here"
      ],
      "metadata": {
        "colab": {
          "base_uri": "https://localhost:8080/"
        },
        "id": "BHUwHvV8T8qK",
        "outputId": "3074aab9-5ca5-4aba-eada-91615be94d18"
      },
      "execution_count": 22,
      "outputs": [
        {
          "output_type": "stream",
          "name": "stdout",
          "text": [
            "[1, 2, 3] 1\n",
            "[1, 2, 3] 1\n"
          ]
        }
      ]
    },
    {
      "cell_type": "code",
      "source": [
        "x, y =[1, 2], 1\n",
        "\n",
        "def f(x):\n",
        "  y = 10\n",
        "  x.append(3)\n",
        "  print(x, y) # Private x, local y\n",
        "\n",
        "f(x)\n",
        "print(x, y)"
      ],
      "metadata": {
        "colab": {
          "base_uri": "https://localhost:8080/"
        },
        "id": "r85q_UyyUgZt",
        "outputId": "052a6c85-cfe0-4d02-907f-e5b1894d442a"
      },
      "execution_count": 23,
      "outputs": [
        {
          "output_type": "stream",
          "name": "stdout",
          "text": [
            "[1, 2, 3] 10\n",
            "[1, 2, 3] 1\n"
          ]
        }
      ]
    },
    {
      "cell_type": "code",
      "source": [
        "### Read the docs of all Builtin functions in the slide"
      ],
      "metadata": {
        "id": "CqXcvbSqVCyO"
      },
      "execution_count": 24,
      "outputs": []
    },
    {
      "cell_type": "markdown",
      "source": [
        "# Modules and Imports\n",
        "\n",
        "### Modules introduce a namespace\n",
        "\n",
        "### Modules/file names should be a valid variable\n",
        "\n",
        "### Simple modules are just Python source files\n",
        "\n",
        "### Python extension modules which are compiled native code\n",
        "\n",
        "\n",
        "## Some Syntax for importing and modules:\n",
        "\n",
        "\n",
        "import module\n",
        "\n",
        "import module as M\n",
        "\n",
        "from module import name1\n",
        "\n",
        "from module import name1, name2\n",
        "\n",
        "from module import * # Avoid using this"
      ],
      "metadata": {
        "id": "sxzF5RgBVZTf"
      }
    }
  ]
}