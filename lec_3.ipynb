{
  "nbformat": 4,
  "nbformat_minor": 0,
  "metadata": {
    "colab": {
      "provenance": []
    },
    "kernelspec": {
      "name": "python3",
      "display_name": "Python 3"
    },
    "language_info": {
      "name": "python"
    }
  },
  "cells": [
    {
      "cell_type": "markdown",
      "source": [
        "break and continue\n",
        "\n",
        "we will use break to exit the loop"
      ],
      "metadata": {
        "id": "YqBP4PGW7epc"
      }
    },
    {
      "cell_type": "code",
      "source": [
        "import numpy as np"
      ],
      "metadata": {
        "id": "DCqk0dcRB55q"
      },
      "execution_count": null,
      "outputs": []
    },
    {
      "cell_type": "code",
      "execution_count": null,
      "metadata": {
        "colab": {
          "base_uri": "https://localhost:8080/"
        },
        "id": "OS8o2M5U6yrh",
        "outputId": "3fc906f7-9bf5-4ad5-b405-5201a3c2f905"
      },
      "outputs": [
        {
          "output_type": "stream",
          "name": "stdout",
          "text": [
            "0\n",
            "1\n",
            "2\n",
            "3\n",
            "4\n",
            "5\n"
          ]
        }
      ],
      "source": [
        "for i in range(10):\n",
        "  if i > 5:\n",
        "    break\n",
        "  print(i)"
      ]
    },
    {
      "cell_type": "markdown",
      "source": [
        "with continue the remainder of the code is skipped"
      ],
      "metadata": {
        "id": "sHEphmTJ7yvE"
      }
    },
    {
      "cell_type": "code",
      "source": [
        "for i in range(10):\n",
        "  if i % 2 != 0:\n",
        "    continue\n",
        "  print(i)"
      ],
      "metadata": {
        "colab": {
          "base_uri": "https://localhost:8080/"
        },
        "id": "rNx7UAFK7s2b",
        "outputId": "d703fe5d-e816-47ce-e99b-ef998ece6d73"
      },
      "execution_count": null,
      "outputs": [
        {
          "output_type": "stream",
          "name": "stdout",
          "text": [
            "0\n",
            "2\n",
            "4\n",
            "6\n",
            "8\n"
          ]
        }
      ]
    },
    {
      "cell_type": "code",
      "source": [
        "sum = 0\n",
        "L = [2, 3, 4, 5, 6, 7, 8]\n",
        "\n",
        "for num in L:\n",
        "  sum += num\n",
        "\n",
        "print(sum)\n",
        "\n",
        "mean = sum / len(L)\n",
        "print(mean)\n"
      ],
      "metadata": {
        "colab": {
          "base_uri": "https://localhost:8080/"
        },
        "id": "dVpklX6J8AeD",
        "outputId": "b41d47b2-dd4d-4d7b-dd2d-ec4b157e0853"
      },
      "execution_count": null,
      "outputs": [
        {
          "output_type": "stream",
          "name": "stdout",
          "text": [
            "35\n",
            "5.0\n"
          ]
        }
      ]
    },
    {
      "cell_type": "markdown",
      "source": [
        "### Functions"
      ],
      "metadata": {
        "id": "y3EJjVB497a9"
      }
    },
    {
      "cell_type": "code",
      "source": [
        "def sqr(lst):\n",
        "  result = []\n",
        "  for x in lst:\n",
        "    result.append(x*x)\n",
        "  return result\n"
      ],
      "metadata": {
        "id": "s69TrJ0q8gIp"
      },
      "execution_count": null,
      "outputs": []
    },
    {
      "cell_type": "code",
      "source": [
        "tsq = sqr(L)\n",
        "tsq"
      ],
      "metadata": {
        "colab": {
          "base_uri": "https://localhost:8080/"
        },
        "id": "-mtd-uG3-eg6",
        "outputId": "1952b9a9-7f88-472f-f518-79be7734a982"
      },
      "execution_count": null,
      "outputs": [
        {
          "output_type": "execute_result",
          "data": {
            "text/plain": [
              "[4, 9, 16, 25, 36, 49, 64]"
            ]
          },
          "metadata": {},
          "execution_count": 10
        }
      ]
    },
    {
      "cell_type": "code",
      "source": [
        "def mean(lst):\n",
        "  sum = 0\n",
        "  result = []\n",
        "\n",
        "  for x in lst:\n",
        "    sum += x\n",
        "\n",
        "  mean = sum / len(lst)\n",
        "  return mean"
      ],
      "metadata": {
        "id": "gp0Nd1RU-kY-"
      },
      "execution_count": null,
      "outputs": []
    },
    {
      "cell_type": "code",
      "source": [
        "mean_value = mean(L)\n",
        "mean_value"
      ],
      "metadata": {
        "colab": {
          "base_uri": "https://localhost:8080/"
        },
        "id": "2lAPryG9_Nr8",
        "outputId": "4942a859-3c28-48ad-a9ec-e0ebfb6123fd"
      },
      "execution_count": null,
      "outputs": [
        {
          "output_type": "execute_result",
          "data": {
            "text/plain": [
              "5.0"
            ]
          },
          "metadata": {},
          "execution_count": 14
        }
      ]
    },
    {
      "cell_type": "code",
      "source": [
        "def stddev(lst):\n",
        "  m = mean(lst)\n",
        "  result = 0.0\n",
        "  for x in lst:\n",
        "    result += (x - m) ** 2\n",
        "  return np.sqrt(result / (len(lst) - 1))"
      ],
      "metadata": {
        "id": "HVJ8vnD-_TwQ"
      },
      "execution_count": null,
      "outputs": []
    },
    {
      "cell_type": "code",
      "source": [
        "stddev(L)"
      ],
      "metadata": {
        "colab": {
          "base_uri": "https://localhost:8080/"
        },
        "id": "KrHKr46bCCy2",
        "outputId": "9b196590-554c-4dc5-c3ac-0dc763a660de"
      },
      "execution_count": null,
      "outputs": [
        {
          "output_type": "execute_result",
          "data": {
            "text/plain": [
              "np.float64(2.160246899469287)"
            ]
          },
          "metadata": {},
          "execution_count": 31
        }
      ]
    },
    {
      "cell_type": "code",
      "source": [
        "def val(x, y):\n",
        "  return x+1, y+2\n",
        "\n",
        "val(11, 12)"
      ],
      "metadata": {
        "colab": {
          "base_uri": "https://localhost:8080/"
        },
        "id": "Rfn5F0-ICEos",
        "outputId": "0e110c53-f6e7-452b-d431-3cd9a32eb9b2"
      },
      "execution_count": null,
      "outputs": [
        {
          "output_type": "execute_result",
          "data": {
            "text/plain": [
              "(12, 14)"
            ]
          },
          "metadata": {},
          "execution_count": 32
        }
      ]
    },
    {
      "cell_type": "code",
      "source": [
        "m, n = val(23, 45)\n",
        "print(m, n)"
      ],
      "metadata": {
        "colab": {
          "base_uri": "https://localhost:8080/"
        },
        "id": "FORoMqmuEe9-",
        "outputId": "7503f1c2-cc85-4b31-c692-a6d8016f6696"
      },
      "execution_count": null,
      "outputs": [
        {
          "output_type": "stream",
          "name": "stdout",
          "text": [
            "24 47\n"
          ]
        }
      ]
    },
    {
      "cell_type": "code",
      "source": [
        "def mse(x, y):\n",
        "  diff = []\n",
        "  for i in range(len(x)):\n",
        "    diff.append(y[i] - x[i])\n",
        "  sdiff = sqr(diff)\n",
        "  return mean(sdiff)"
      ],
      "metadata": {
        "id": "WOpxAZRMEkfY"
      },
      "execution_count": null,
      "outputs": []
    },
    {
      "cell_type": "code",
      "source": [
        "x1 = [2, 4, 5, 6, 7, 8]\n",
        "x2 = [3, 5, 6, 8, 9, 10]"
      ],
      "metadata": {
        "id": "XuvoilV-Gg0o"
      },
      "execution_count": null,
      "outputs": []
    },
    {
      "cell_type": "code",
      "source": [
        "mse(x1, x2)"
      ],
      "metadata": {
        "colab": {
          "base_uri": "https://localhost:8080/"
        },
        "id": "tq6LZEsIGHZO",
        "outputId": "d4f3a52f-e1f9-4425-982b-5da404579dad"
      },
      "execution_count": null,
      "outputs": [
        {
          "output_type": "execute_result",
          "data": {
            "text/plain": [
              "2.5"
            ]
          },
          "metadata": {},
          "execution_count": 29
        }
      ]
    },
    {
      "cell_type": "markdown",
      "source": [
        "using zip function"
      ],
      "metadata": {
        "id": "E2IMNKsVIgMn"
      }
    },
    {
      "cell_type": "code",
      "source": [
        "def MSE(x, y):\n",
        "  diff = []\n",
        "  for u, v in zip(x, y):\n",
        "    diff.append(u - v)\n",
        "  sdiff = sqr(diff)\n",
        "  return mean(sdiff)"
      ],
      "metadata": {
        "id": "_RK87F8LGYkN"
      },
      "execution_count": null,
      "outputs": []
    },
    {
      "cell_type": "code",
      "source": [
        "n = 2**20\n",
        "big = list(range(n))\n"
      ],
      "metadata": {
        "id": "4sz72JNeIi1W"
      },
      "execution_count": null,
      "outputs": []
    },
    {
      "cell_type": "code",
      "source": [
        "len(big)"
      ],
      "metadata": {
        "colab": {
          "base_uri": "https://localhost:8080/"
        },
        "id": "TwQhucbfIaOc",
        "outputId": "22b4c60a-9e18-4270-908c-ba41a235a1dc"
      },
      "execution_count": null,
      "outputs": [
        {
          "output_type": "execute_result",
          "data": {
            "text/plain": [
              "1048576"
            ]
          },
          "metadata": {},
          "execution_count": 35
        }
      ]
    },
    {
      "cell_type": "code",
      "source": [
        "%timeit sqr(big)"
      ],
      "metadata": {
        "colab": {
          "base_uri": "https://localhost:8080/"
        },
        "id": "EQvaiuPeI2wE",
        "outputId": "8df86cd9-c7ce-43cb-fa3b-45a584aefe52"
      },
      "execution_count": null,
      "outputs": [
        {
          "output_type": "stream",
          "name": "stdout",
          "text": [
            "69.7 ms ± 936 µs per loop (mean ± std. dev. of 7 runs, 10 loops each)\n"
          ]
        }
      ]
    },
    {
      "cell_type": "code",
      "source": [
        "big_np = np.array(big)"
      ],
      "metadata": {
        "id": "tx_VWG6NI5pv"
      },
      "execution_count": null,
      "outputs": []
    },
    {
      "cell_type": "code",
      "source": [
        "%timeit big_np*big_np"
      ],
      "metadata": {
        "colab": {
          "base_uri": "https://localhost:8080/"
        },
        "id": "-PQPpewLJQjb",
        "outputId": "9aae6db7-09e8-434b-e0d8-ce1ec5fbaf34"
      },
      "execution_count": null,
      "outputs": [
        {
          "output_type": "stream",
          "name": "stdout",
          "text": [
            "2.89 ms ± 27.3 µs per loop (mean ± std. dev. of 7 runs, 100 loops each)\n"
          ]
        }
      ]
    },
    {
      "cell_type": "code",
      "source": [
        "%pwd"
      ],
      "metadata": {
        "colab": {
          "base_uri": "https://localhost:8080/",
          "height": 35
        },
        "id": "Ea5WoSUeJWh6",
        "outputId": "8589863b-052e-4ed6-8e29-b7bddf2dd7db"
      },
      "execution_count": null,
      "outputs": [
        {
          "output_type": "execute_result",
          "data": {
            "text/plain": [
              "'/content'"
            ],
            "application/vnd.google.colaboratory.intrinsic+json": {
              "type": "string"
            }
          },
          "metadata": {},
          "execution_count": 39
        }
      ]
    },
    {
      "cell_type": "code",
      "source": [
        "%cd"
      ],
      "metadata": {
        "colab": {
          "base_uri": "https://localhost:8080/"
        },
        "id": "V46QBwLmJiE3",
        "outputId": "943f3b3b-fd00-4dd1-f7c1-02f12ba670a3"
      },
      "execution_count": null,
      "outputs": [
        {
          "output_type": "stream",
          "name": "stdout",
          "text": [
            "/root\n"
          ]
        }
      ]
    },
    {
      "cell_type": "code",
      "source": [],
      "metadata": {
        "id": "Sf--8Ru_Jl20"
      },
      "execution_count": null,
      "outputs": []
    }
  ]
}