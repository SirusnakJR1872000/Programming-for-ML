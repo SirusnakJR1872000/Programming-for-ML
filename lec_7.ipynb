{
  "nbformat": 4,
  "nbformat_minor": 0,
  "metadata": {
    "colab": {
      "provenance": []
    },
    "kernelspec": {
      "name": "python3",
      "display_name": "Python 3"
    },
    "language_info": {
      "name": "python"
    },
    "widgets": {
      "application/vnd.jupyter.widget-state+json": {
        "1432ad188acc4f47b2258e62a67498fd": {
          "model_module": "@jupyter-widgets/controls",
          "model_name": "VBoxModel",
          "model_module_version": "1.5.0",
          "state": {
            "_dom_classes": [
              "widget-interact"
            ],
            "_model_module": "@jupyter-widgets/controls",
            "_model_module_version": "1.5.0",
            "_model_name": "VBoxModel",
            "_view_count": null,
            "_view_module": "@jupyter-widgets/controls",
            "_view_module_version": "1.5.0",
            "_view_name": "VBoxView",
            "box_style": "",
            "children": [
              "IPY_MODEL_11701eec22c64f02af0213ca94322f6d",
              "IPY_MODEL_af17ef7afded4869b1ee997421c611f7",
              "IPY_MODEL_f1df823d5e3045518ff93e254d3f9cf6"
            ],
            "layout": "IPY_MODEL_e48a4f19ea1543c59515fe9f4ada7972"
          }
        },
        "11701eec22c64f02af0213ca94322f6d": {
          "model_module": "@jupyter-widgets/controls",
          "model_name": "IntSliderModel",
          "model_module_version": "1.5.0",
          "state": {
            "_dom_classes": [],
            "_model_module": "@jupyter-widgets/controls",
            "_model_module_version": "1.5.0",
            "_model_name": "IntSliderModel",
            "_view_count": null,
            "_view_module": "@jupyter-widgets/controls",
            "_view_module_version": "1.5.0",
            "_view_name": "IntSliderView",
            "continuous_update": true,
            "description": "n",
            "description_tooltip": null,
            "disabled": false,
            "layout": "IPY_MODEL_9646b4b19e4d4764ac637dade9f652ad",
            "max": 100,
            "min": 1,
            "orientation": "horizontal",
            "readout": true,
            "readout_format": "d",
            "step": 1,
            "style": "IPY_MODEL_eb305c8781c44d5988936ec868898d1f",
            "value": 31
          }
        },
        "af17ef7afded4869b1ee997421c611f7": {
          "model_module": "@jupyter-widgets/controls",
          "model_name": "FloatSliderModel",
          "model_module_version": "1.5.0",
          "state": {
            "_dom_classes": [],
            "_model_module": "@jupyter-widgets/controls",
            "_model_module_version": "1.5.0",
            "_model_name": "FloatSliderModel",
            "_view_count": null,
            "_view_module": "@jupyter-widgets/controls",
            "_view_module_version": "1.5.0",
            "_view_name": "FloatSliderView",
            "continuous_update": true,
            "description": "p",
            "description_tooltip": null,
            "disabled": false,
            "layout": "IPY_MODEL_04301ea4f2df4702a2a11e1dd9f0ac6e",
            "max": 0.99,
            "min": 0.01,
            "orientation": "horizontal",
            "readout": true,
            "readout_format": ".2f",
            "step": 0.1,
            "style": "IPY_MODEL_d1e108b1720140598a2c3189bdd8c74a",
            "value": 0.5
          }
        },
        "f1df823d5e3045518ff93e254d3f9cf6": {
          "model_module": "@jupyter-widgets/output",
          "model_name": "OutputModel",
          "model_module_version": "1.0.0",
          "state": {
            "_dom_classes": [],
            "_model_module": "@jupyter-widgets/output",
            "_model_module_version": "1.0.0",
            "_model_name": "OutputModel",
            "_view_count": null,
            "_view_module": "@jupyter-widgets/output",
            "_view_module_version": "1.0.0",
            "_view_name": "OutputView",
            "layout": "IPY_MODEL_9421ffb4eec245daaa9467722cfb0255",
            "msg_id": "",
            "outputs": [
              {
                "output_type": "display_data",
                "data": {
                  "text/plain": "<Figure size 640x480 with 1 Axes>",
                  "image/png": "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\n"
                },
                "metadata": {}
              }
            ]
          }
        },
        "e48a4f19ea1543c59515fe9f4ada7972": {
          "model_module": "@jupyter-widgets/base",
          "model_name": "LayoutModel",
          "model_module_version": "1.2.0",
          "state": {
            "_model_module": "@jupyter-widgets/base",
            "_model_module_version": "1.2.0",
            "_model_name": "LayoutModel",
            "_view_count": null,
            "_view_module": "@jupyter-widgets/base",
            "_view_module_version": "1.2.0",
            "_view_name": "LayoutView",
            "align_content": null,
            "align_items": null,
            "align_self": null,
            "border": null,
            "bottom": null,
            "display": null,
            "flex": null,
            "flex_flow": null,
            "grid_area": null,
            "grid_auto_columns": null,
            "grid_auto_flow": null,
            "grid_auto_rows": null,
            "grid_column": null,
            "grid_gap": null,
            "grid_row": null,
            "grid_template_areas": null,
            "grid_template_columns": null,
            "grid_template_rows": null,
            "height": null,
            "justify_content": null,
            "justify_items": null,
            "left": null,
            "margin": null,
            "max_height": null,
            "max_width": null,
            "min_height": null,
            "min_width": null,
            "object_fit": null,
            "object_position": null,
            "order": null,
            "overflow": null,
            "overflow_x": null,
            "overflow_y": null,
            "padding": null,
            "right": null,
            "top": null,
            "visibility": null,
            "width": null
          }
        },
        "9646b4b19e4d4764ac637dade9f652ad": {
          "model_module": "@jupyter-widgets/base",
          "model_name": "LayoutModel",
          "model_module_version": "1.2.0",
          "state": {
            "_model_module": "@jupyter-widgets/base",
            "_model_module_version": "1.2.0",
            "_model_name": "LayoutModel",
            "_view_count": null,
            "_view_module": "@jupyter-widgets/base",
            "_view_module_version": "1.2.0",
            "_view_name": "LayoutView",
            "align_content": null,
            "align_items": null,
            "align_self": null,
            "border": null,
            "bottom": null,
            "display": null,
            "flex": null,
            "flex_flow": null,
            "grid_area": null,
            "grid_auto_columns": null,
            "grid_auto_flow": null,
            "grid_auto_rows": null,
            "grid_column": null,
            "grid_gap": null,
            "grid_row": null,
            "grid_template_areas": null,
            "grid_template_columns": null,
            "grid_template_rows": null,
            "height": null,
            "justify_content": null,
            "justify_items": null,
            "left": null,
            "margin": null,
            "max_height": null,
            "max_width": null,
            "min_height": null,
            "min_width": null,
            "object_fit": null,
            "object_position": null,
            "order": null,
            "overflow": null,
            "overflow_x": null,
            "overflow_y": null,
            "padding": null,
            "right": null,
            "top": null,
            "visibility": null,
            "width": null
          }
        },
        "eb305c8781c44d5988936ec868898d1f": {
          "model_module": "@jupyter-widgets/controls",
          "model_name": "SliderStyleModel",
          "model_module_version": "1.5.0",
          "state": {
            "_model_module": "@jupyter-widgets/controls",
            "_model_module_version": "1.5.0",
            "_model_name": "SliderStyleModel",
            "_view_count": null,
            "_view_module": "@jupyter-widgets/base",
            "_view_module_version": "1.2.0",
            "_view_name": "StyleView",
            "description_width": "",
            "handle_color": null
          }
        },
        "04301ea4f2df4702a2a11e1dd9f0ac6e": {
          "model_module": "@jupyter-widgets/base",
          "model_name": "LayoutModel",
          "model_module_version": "1.2.0",
          "state": {
            "_model_module": "@jupyter-widgets/base",
            "_model_module_version": "1.2.0",
            "_model_name": "LayoutModel",
            "_view_count": null,
            "_view_module": "@jupyter-widgets/base",
            "_view_module_version": "1.2.0",
            "_view_name": "LayoutView",
            "align_content": null,
            "align_items": null,
            "align_self": null,
            "border": null,
            "bottom": null,
            "display": null,
            "flex": null,
            "flex_flow": null,
            "grid_area": null,
            "grid_auto_columns": null,
            "grid_auto_flow": null,
            "grid_auto_rows": null,
            "grid_column": null,
            "grid_gap": null,
            "grid_row": null,
            "grid_template_areas": null,
            "grid_template_columns": null,
            "grid_template_rows": null,
            "height": null,
            "justify_content": null,
            "justify_items": null,
            "left": null,
            "margin": null,
            "max_height": null,
            "max_width": null,
            "min_height": null,
            "min_width": null,
            "object_fit": null,
            "object_position": null,
            "order": null,
            "overflow": null,
            "overflow_x": null,
            "overflow_y": null,
            "padding": null,
            "right": null,
            "top": null,
            "visibility": null,
            "width": null
          }
        },
        "d1e108b1720140598a2c3189bdd8c74a": {
          "model_module": "@jupyter-widgets/controls",
          "model_name": "SliderStyleModel",
          "model_module_version": "1.5.0",
          "state": {
            "_model_module": "@jupyter-widgets/controls",
            "_model_module_version": "1.5.0",
            "_model_name": "SliderStyleModel",
            "_view_count": null,
            "_view_module": "@jupyter-widgets/base",
            "_view_module_version": "1.2.0",
            "_view_name": "StyleView",
            "description_width": "",
            "handle_color": null
          }
        },
        "9421ffb4eec245daaa9467722cfb0255": {
          "model_module": "@jupyter-widgets/base",
          "model_name": "LayoutModel",
          "model_module_version": "1.2.0",
          "state": {
            "_model_module": "@jupyter-widgets/base",
            "_model_module_version": "1.2.0",
            "_model_name": "LayoutModel",
            "_view_count": null,
            "_view_module": "@jupyter-widgets/base",
            "_view_module_version": "1.2.0",
            "_view_name": "LayoutView",
            "align_content": null,
            "align_items": null,
            "align_self": null,
            "border": null,
            "bottom": null,
            "display": null,
            "flex": null,
            "flex_flow": null,
            "grid_area": null,
            "grid_auto_columns": null,
            "grid_auto_flow": null,
            "grid_auto_rows": null,
            "grid_column": null,
            "grid_gap": null,
            "grid_row": null,
            "grid_template_areas": null,
            "grid_template_columns": null,
            "grid_template_rows": null,
            "height": null,
            "justify_content": null,
            "justify_items": null,
            "left": null,
            "margin": null,
            "max_height": null,
            "max_width": null,
            "min_height": null,
            "min_width": null,
            "object_fit": null,
            "object_position": null,
            "order": null,
            "overflow": null,
            "overflow_x": null,
            "overflow_y": null,
            "padding": null,
            "right": null,
            "top": null,
            "visibility": null,
            "width": null
          }
        },
        "3979f379b0004198b14099de22ffb312": {
          "model_module": "@jupyter-widgets/controls",
          "model_name": "VBoxModel",
          "model_module_version": "1.5.0",
          "state": {
            "_dom_classes": [
              "widget-interact"
            ],
            "_model_module": "@jupyter-widgets/controls",
            "_model_module_version": "1.5.0",
            "_model_name": "VBoxModel",
            "_view_count": null,
            "_view_module": "@jupyter-widgets/controls",
            "_view_module_version": "1.5.0",
            "_view_name": "VBoxView",
            "box_style": "",
            "children": [
              "IPY_MODEL_26137b5f7d68475c87fef55c411a546d",
              "IPY_MODEL_73a0ef77322549408562d4d8a488a136"
            ],
            "layout": "IPY_MODEL_5d008b4aa2e748b4a246af54a19dab00"
          }
        },
        "26137b5f7d68475c87fef55c411a546d": {
          "model_module": "@jupyter-widgets/controls",
          "model_name": "FloatSliderModel",
          "model_module_version": "1.5.0",
          "state": {
            "_dom_classes": [],
            "_model_module": "@jupyter-widgets/controls",
            "_model_module_version": "1.5.0",
            "_model_name": "FloatSliderModel",
            "_view_count": null,
            "_view_module": "@jupyter-widgets/controls",
            "_view_module_version": "1.5.0",
            "_view_name": "FloatSliderView",
            "continuous_update": true,
            "description": "lam",
            "description_tooltip": null,
            "disabled": false,
            "layout": "IPY_MODEL_c8eb2b2d02724e0ba155659af51c7ab9",
            "max": 100,
            "min": 0,
            "orientation": "horizontal",
            "readout": true,
            "readout_format": ".2f",
            "step": 0.1,
            "style": "IPY_MODEL_b51abdaf58b5471aa4da629473a59dbe",
            "value": 20.4
          }
        },
        "73a0ef77322549408562d4d8a488a136": {
          "model_module": "@jupyter-widgets/output",
          "model_name": "OutputModel",
          "model_module_version": "1.0.0",
          "state": {
            "_dom_classes": [],
            "_model_module": "@jupyter-widgets/output",
            "_model_module_version": "1.0.0",
            "_model_name": "OutputModel",
            "_view_count": null,
            "_view_module": "@jupyter-widgets/output",
            "_view_module_version": "1.0.0",
            "_view_name": "OutputView",
            "layout": "IPY_MODEL_2b57bee0d61945389a845676a3adacc0",
            "msg_id": "",
            "outputs": [
              {
                "output_type": "display_data",
                "data": {
                  "text/plain": "<Figure size 640x480 with 1 Axes>",
                  "image/png": "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\n"
                },
                "metadata": {}
              }
            ]
          }
        },
        "5d008b4aa2e748b4a246af54a19dab00": {
          "model_module": "@jupyter-widgets/base",
          "model_name": "LayoutModel",
          "model_module_version": "1.2.0",
          "state": {
            "_model_module": "@jupyter-widgets/base",
            "_model_module_version": "1.2.0",
            "_model_name": "LayoutModel",
            "_view_count": null,
            "_view_module": "@jupyter-widgets/base",
            "_view_module_version": "1.2.0",
            "_view_name": "LayoutView",
            "align_content": null,
            "align_items": null,
            "align_self": null,
            "border": null,
            "bottom": null,
            "display": null,
            "flex": null,
            "flex_flow": null,
            "grid_area": null,
            "grid_auto_columns": null,
            "grid_auto_flow": null,
            "grid_auto_rows": null,
            "grid_column": null,
            "grid_gap": null,
            "grid_row": null,
            "grid_template_areas": null,
            "grid_template_columns": null,
            "grid_template_rows": null,
            "height": null,
            "justify_content": null,
            "justify_items": null,
            "left": null,
            "margin": null,
            "max_height": null,
            "max_width": null,
            "min_height": null,
            "min_width": null,
            "object_fit": null,
            "object_position": null,
            "order": null,
            "overflow": null,
            "overflow_x": null,
            "overflow_y": null,
            "padding": null,
            "right": null,
            "top": null,
            "visibility": null,
            "width": null
          }
        },
        "c8eb2b2d02724e0ba155659af51c7ab9": {
          "model_module": "@jupyter-widgets/base",
          "model_name": "LayoutModel",
          "model_module_version": "1.2.0",
          "state": {
            "_model_module": "@jupyter-widgets/base",
            "_model_module_version": "1.2.0",
            "_model_name": "LayoutModel",
            "_view_count": null,
            "_view_module": "@jupyter-widgets/base",
            "_view_module_version": "1.2.0",
            "_view_name": "LayoutView",
            "align_content": null,
            "align_items": null,
            "align_self": null,
            "border": null,
            "bottom": null,
            "display": null,
            "flex": null,
            "flex_flow": null,
            "grid_area": null,
            "grid_auto_columns": null,
            "grid_auto_flow": null,
            "grid_auto_rows": null,
            "grid_column": null,
            "grid_gap": null,
            "grid_row": null,
            "grid_template_areas": null,
            "grid_template_columns": null,
            "grid_template_rows": null,
            "height": null,
            "justify_content": null,
            "justify_items": null,
            "left": null,
            "margin": null,
            "max_height": null,
            "max_width": null,
            "min_height": null,
            "min_width": null,
            "object_fit": null,
            "object_position": null,
            "order": null,
            "overflow": null,
            "overflow_x": null,
            "overflow_y": null,
            "padding": null,
            "right": null,
            "top": null,
            "visibility": null,
            "width": null
          }
        },
        "b51abdaf58b5471aa4da629473a59dbe": {
          "model_module": "@jupyter-widgets/controls",
          "model_name": "SliderStyleModel",
          "model_module_version": "1.5.0",
          "state": {
            "_model_module": "@jupyter-widgets/controls",
            "_model_module_version": "1.5.0",
            "_model_name": "SliderStyleModel",
            "_view_count": null,
            "_view_module": "@jupyter-widgets/base",
            "_view_module_version": "1.2.0",
            "_view_name": "StyleView",
            "description_width": "",
            "handle_color": null
          }
        },
        "2b57bee0d61945389a845676a3adacc0": {
          "model_module": "@jupyter-widgets/base",
          "model_name": "LayoutModel",
          "model_module_version": "1.2.0",
          "state": {
            "_model_module": "@jupyter-widgets/base",
            "_model_module_version": "1.2.0",
            "_model_name": "LayoutModel",
            "_view_count": null,
            "_view_module": "@jupyter-widgets/base",
            "_view_module_version": "1.2.0",
            "_view_name": "LayoutView",
            "align_content": null,
            "align_items": null,
            "align_self": null,
            "border": null,
            "bottom": null,
            "display": null,
            "flex": null,
            "flex_flow": null,
            "grid_area": null,
            "grid_auto_columns": null,
            "grid_auto_flow": null,
            "grid_auto_rows": null,
            "grid_column": null,
            "grid_gap": null,
            "grid_row": null,
            "grid_template_areas": null,
            "grid_template_columns": null,
            "grid_template_rows": null,
            "height": null,
            "justify_content": null,
            "justify_items": null,
            "left": null,
            "margin": null,
            "max_height": null,
            "max_width": null,
            "min_height": null,
            "min_width": null,
            "object_fit": null,
            "object_position": null,
            "order": null,
            "overflow": null,
            "overflow_x": null,
            "overflow_y": null,
            "padding": null,
            "right": null,
            "top": null,
            "visibility": null,
            "width": null
          }
        },
        "8a5520cfa96e430a9138edb41791d126": {
          "model_module": "@jupyter-widgets/controls",
          "model_name": "VBoxModel",
          "model_module_version": "1.5.0",
          "state": {
            "_dom_classes": [
              "widget-interact"
            ],
            "_model_module": "@jupyter-widgets/controls",
            "_model_module_version": "1.5.0",
            "_model_name": "VBoxModel",
            "_view_count": null,
            "_view_module": "@jupyter-widgets/controls",
            "_view_module_version": "1.5.0",
            "_view_name": "VBoxView",
            "box_style": "",
            "children": [
              "IPY_MODEL_6bb9ff5e2f6843998984640ecb7376e7",
              "IPY_MODEL_021b4d3e55cb4ab4be57747c2cd1b655"
            ],
            "layout": "IPY_MODEL_5d39e6015f74496a966f5d78d48d712a"
          }
        },
        "6bb9ff5e2f6843998984640ecb7376e7": {
          "model_module": "@jupyter-widgets/controls",
          "model_name": "IntSliderModel",
          "model_module_version": "1.5.0",
          "state": {
            "_dom_classes": [],
            "_model_module": "@jupyter-widgets/controls",
            "_model_module_version": "1.5.0",
            "_model_name": "IntSliderModel",
            "_view_count": null,
            "_view_module": "@jupyter-widgets/controls",
            "_view_module_version": "1.5.0",
            "_view_name": "IntSliderView",
            "continuous_update": true,
            "description": "n",
            "description_tooltip": null,
            "disabled": false,
            "layout": "IPY_MODEL_524681d2705041d8a6cf3cfe2f29d009",
            "max": 50,
            "min": 1,
            "orientation": "horizontal",
            "readout": true,
            "readout_format": "d",
            "step": 1,
            "style": "IPY_MODEL_24bb616f6cf24fedac2ae8b9a832d4bc",
            "value": 7
          }
        },
        "021b4d3e55cb4ab4be57747c2cd1b655": {
          "model_module": "@jupyter-widgets/output",
          "model_name": "OutputModel",
          "model_module_version": "1.0.0",
          "state": {
            "_dom_classes": [],
            "_model_module": "@jupyter-widgets/output",
            "_model_module_version": "1.0.0",
            "_model_name": "OutputModel",
            "_view_count": null,
            "_view_module": "@jupyter-widgets/output",
            "_view_module_version": "1.0.0",
            "_view_name": "OutputView",
            "layout": "IPY_MODEL_5dede3d8fbe54be5bdcf9382845677c7",
            "msg_id": "",
            "outputs": [
              {
                "output_type": "display_data",
                "data": {
                  "text/plain": "<Figure size 640x480 with 1 Axes>",
                  "image/png": "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\n"
                },
                "metadata": {}
              }
            ]
          }
        },
        "5d39e6015f74496a966f5d78d48d712a": {
          "model_module": "@jupyter-widgets/base",
          "model_name": "LayoutModel",
          "model_module_version": "1.2.0",
          "state": {
            "_model_module": "@jupyter-widgets/base",
            "_model_module_version": "1.2.0",
            "_model_name": "LayoutModel",
            "_view_count": null,
            "_view_module": "@jupyter-widgets/base",
            "_view_module_version": "1.2.0",
            "_view_name": "LayoutView",
            "align_content": null,
            "align_items": null,
            "align_self": null,
            "border": null,
            "bottom": null,
            "display": null,
            "flex": null,
            "flex_flow": null,
            "grid_area": null,
            "grid_auto_columns": null,
            "grid_auto_flow": null,
            "grid_auto_rows": null,
            "grid_column": null,
            "grid_gap": null,
            "grid_row": null,
            "grid_template_areas": null,
            "grid_template_columns": null,
            "grid_template_rows": null,
            "height": null,
            "justify_content": null,
            "justify_items": null,
            "left": null,
            "margin": null,
            "max_height": null,
            "max_width": null,
            "min_height": null,
            "min_width": null,
            "object_fit": null,
            "object_position": null,
            "order": null,
            "overflow": null,
            "overflow_x": null,
            "overflow_y": null,
            "padding": null,
            "right": null,
            "top": null,
            "visibility": null,
            "width": null
          }
        },
        "524681d2705041d8a6cf3cfe2f29d009": {
          "model_module": "@jupyter-widgets/base",
          "model_name": "LayoutModel",
          "model_module_version": "1.2.0",
          "state": {
            "_model_module": "@jupyter-widgets/base",
            "_model_module_version": "1.2.0",
            "_model_name": "LayoutModel",
            "_view_count": null,
            "_view_module": "@jupyter-widgets/base",
            "_view_module_version": "1.2.0",
            "_view_name": "LayoutView",
            "align_content": null,
            "align_items": null,
            "align_self": null,
            "border": null,
            "bottom": null,
            "display": null,
            "flex": null,
            "flex_flow": null,
            "grid_area": null,
            "grid_auto_columns": null,
            "grid_auto_flow": null,
            "grid_auto_rows": null,
            "grid_column": null,
            "grid_gap": null,
            "grid_row": null,
            "grid_template_areas": null,
            "grid_template_columns": null,
            "grid_template_rows": null,
            "height": null,
            "justify_content": null,
            "justify_items": null,
            "left": null,
            "margin": null,
            "max_height": null,
            "max_width": null,
            "min_height": null,
            "min_width": null,
            "object_fit": null,
            "object_position": null,
            "order": null,
            "overflow": null,
            "overflow_x": null,
            "overflow_y": null,
            "padding": null,
            "right": null,
            "top": null,
            "visibility": null,
            "width": null
          }
        },
        "24bb616f6cf24fedac2ae8b9a832d4bc": {
          "model_module": "@jupyter-widgets/controls",
          "model_name": "SliderStyleModel",
          "model_module_version": "1.5.0",
          "state": {
            "_model_module": "@jupyter-widgets/controls",
            "_model_module_version": "1.5.0",
            "_model_name": "SliderStyleModel",
            "_view_count": null,
            "_view_module": "@jupyter-widgets/base",
            "_view_module_version": "1.2.0",
            "_view_name": "StyleView",
            "description_width": "",
            "handle_color": null
          }
        },
        "5dede3d8fbe54be5bdcf9382845677c7": {
          "model_module": "@jupyter-widgets/base",
          "model_name": "LayoutModel",
          "model_module_version": "1.2.0",
          "state": {
            "_model_module": "@jupyter-widgets/base",
            "_model_module_version": "1.2.0",
            "_model_name": "LayoutModel",
            "_view_count": null,
            "_view_module": "@jupyter-widgets/base",
            "_view_module_version": "1.2.0",
            "_view_name": "LayoutView",
            "align_content": null,
            "align_items": null,
            "align_self": null,
            "border": null,
            "bottom": null,
            "display": null,
            "flex": null,
            "flex_flow": null,
            "grid_area": null,
            "grid_auto_columns": null,
            "grid_auto_flow": null,
            "grid_auto_rows": null,
            "grid_column": null,
            "grid_gap": null,
            "grid_row": null,
            "grid_template_areas": null,
            "grid_template_columns": null,
            "grid_template_rows": null,
            "height": null,
            "justify_content": null,
            "justify_items": null,
            "left": null,
            "margin": null,
            "max_height": null,
            "max_width": null,
            "min_height": null,
            "min_width": null,
            "object_fit": null,
            "object_position": null,
            "order": null,
            "overflow": null,
            "overflow_x": null,
            "overflow_y": null,
            "padding": null,
            "right": null,
            "top": null,
            "visibility": null,
            "width": null
          }
        }
      }
    }
  },
  "cells": [
    {
      "cell_type": "markdown",
      "source": [
        "# Probabilistic Programming"
      ],
      "metadata": {
        "id": "mgwrcomsC7sq"
      }
    },
    {
      "cell_type": "markdown",
      "source": [
        "Using the computer for random experiments\n",
        "\n",
        "Very good for understanding\n",
        "\n",
        "Also used routinely when providing confidence intervals\n",
        "\n",
        "The basis for any Monte Carlo methods\n",
        "\n",
        "Important for any further statistical work including Bayesian data analysis"
      ],
      "metadata": {
        "id": "jqjPnyc-DGkK"
      }
    },
    {
      "cell_type": "code",
      "execution_count": 1,
      "metadata": {
        "id": "kW1WZaBwB-e0"
      },
      "outputs": [],
      "source": [
        "import numpy as np\n",
        "import matplotlib.pyplot as plt"
      ]
    },
    {
      "cell_type": "code",
      "source": [
        "np.random.randint(low = 0, high = 2, size = 5)"
      ],
      "metadata": {
        "colab": {
          "base_uri": "https://localhost:8080/"
        },
        "id": "G5nlJf-oDEmI",
        "outputId": "10f9f9b1-a7c1-4acd-b27a-c2422c9aca30"
      },
      "execution_count": 2,
      "outputs": [
        {
          "output_type": "execute_result",
          "data": {
            "text/plain": [
              "array([1, 0, 0, 0, 1])"
            ]
          },
          "metadata": {},
          "execution_count": 2
        }
      ]
    },
    {
      "cell_type": "code",
      "source": [
        "# write a function to create a 4 sided die\n",
        "def tet(size = 1):\n",
        "    return np.random.randint(low = 1, high = 5, size = size)\n"
      ],
      "metadata": {
        "id": "0NmPqajUER_f"
      },
      "execution_count": 3,
      "outputs": []
    },
    {
      "cell_type": "code",
      "source": [
        "tet()"
      ],
      "metadata": {
        "colab": {
          "base_uri": "https://localhost:8080/"
        },
        "id": "0w7RFNtkEgaU",
        "outputId": "cc9ec160-8c9f-4c01-94e9-42ca0caaf865"
      },
      "execution_count": 4,
      "outputs": [
        {
          "output_type": "execute_result",
          "data": {
            "text/plain": [
              "array([3])"
            ]
          },
          "metadata": {},
          "execution_count": 4
        }
      ]
    },
    {
      "cell_type": "code",
      "source": [
        "np.random.random(5)"
      ],
      "metadata": {
        "colab": {
          "base_uri": "https://localhost:8080/"
        },
        "id": "MvRICQWQEiFo",
        "outputId": "69f57072-0023-46df-f945-c747d1187f8e"
      },
      "execution_count": 5,
      "outputs": [
        {
          "output_type": "execute_result",
          "data": {
            "text/plain": [
              "array([0.45070065, 0.79343845, 0.83746184, 0.47009647, 0.26427701])"
            ]
          },
          "metadata": {},
          "execution_count": 5
        }
      ]
    },
    {
      "cell_type": "code",
      "source": [
        "# size can be any shape\n",
        "np.random.random((3,3))"
      ],
      "metadata": {
        "colab": {
          "base_uri": "https://localhost:8080/"
        },
        "id": "jV9QxT4GEmK8",
        "outputId": "22e46cc1-aa03-4b2e-8cf2-8c517bc97a44"
      },
      "execution_count": 6,
      "outputs": [
        {
          "output_type": "execute_result",
          "data": {
            "text/plain": [
              "array([[0.46650533, 0.9950853 , 0.18664859],\n",
              "       [0.66769249, 0.20122191, 0.76658869],\n",
              "       [0.35749817, 0.00687009, 0.58135164]])"
            ]
          },
          "metadata": {},
          "execution_count": 6
        }
      ]
    },
    {
      "cell_type": "code",
      "source": [
        "x = np.random.random(size = 1000)"
      ],
      "metadata": {
        "id": "5B6ImuFSEr-f"
      },
      "execution_count": 7,
      "outputs": []
    },
    {
      "cell_type": "code",
      "source": [
        "x = np.random.random(2000)\n",
        "y = 2*x - 1\n",
        "plt.hist(y, bins = 'auto', density = True)\n",
        "plt.show();"
      ],
      "metadata": {
        "colab": {
          "base_uri": "https://localhost:8080/",
          "height": 430
        },
        "id": "u9lGXp6HEyHx",
        "outputId": "7ba79167-6d27-412d-b41f-1a33a0ce149a"
      },
      "execution_count": 8,
      "outputs": [
        {
          "output_type": "display_data",
          "data": {
            "text/plain": [
              "<Figure size 640x480 with 1 Axes>"
            ],
            "image/png": "[encoded data removed]"
          },
          "metadata": {}
        }
      ]
    },
    {
      "cell_type": "code",
      "source": [
        "x = np.random.normal(size = 1000)\n",
        "y = 2*x - 1\n",
        "plt.hist(y, bins = 'auto', density = True)\n",
        "plt.show();"
      ],
      "metadata": {
        "colab": {
          "base_uri": "https://localhost:8080/",
          "height": 430
        },
        "id": "_hEo_T2KE9pc",
        "outputId": "ad0af133-23ee-4fc6-8691-23348078662c"
      },
      "execution_count": 9,
      "outputs": [
        {
          "output_type": "display_data",
          "data": {
            "text/plain": [
              "<Figure size 640x480 with 1 Axes>"
            ],
            "image/png": "[encoded data removed]"
          },
          "metadata": {}
        }
      ]
    },
    {
      "cell_type": "markdown",
      "source": [
        "# Pseudo RNG\n",
        "\n",
        "Computer generates psuedo random numbers\n",
        "\n",
        "Not really random\n",
        "\n",
        "Use random.seed(number) to set the seed"
      ],
      "metadata": {
        "id": "VmKfVAzdFXp7"
      }
    },
    {
      "cell_type": "code",
      "source": [
        "np.random.random(5)"
      ],
      "metadata": {
        "colab": {
          "base_uri": "https://localhost:8080/"
        },
        "id": "9CZ8cebiFE2I",
        "outputId": "05ae4fb4-a725-48f4-ce0a-f7088e620138"
      },
      "execution_count": 10,
      "outputs": [
        {
          "output_type": "execute_result",
          "data": {
            "text/plain": [
              "array([0.71335414, 0.07257029, 0.36219259, 0.53695678, 0.72256028])"
            ]
          },
          "metadata": {},
          "execution_count": 10
        }
      ]
    },
    {
      "cell_type": "code",
      "source": [
        "np.random.seed(123)\n",
        "np.random.random(5)"
      ],
      "metadata": {
        "colab": {
          "base_uri": "https://localhost:8080/"
        },
        "id": "wMJd0uUJFlgP",
        "outputId": "739774e8-cce7-4493-a517-fa466088ef43"
      },
      "execution_count": 13,
      "outputs": [
        {
          "output_type": "execute_result",
          "data": {
            "text/plain": [
              "array([0.69646919, 0.28613933, 0.22685145, 0.55131477, 0.71946897])"
            ]
          },
          "metadata": {},
          "execution_count": 13
        }
      ]
    },
    {
      "cell_type": "code",
      "source": [
        "np.random.seed(234)\n",
        "np.random.random(5)"
      ],
      "metadata": {
        "colab": {
          "base_uri": "https://localhost:8080/"
        },
        "id": "eH6GDo9IFna4",
        "outputId": "ad14a5d2-4312-4f66-ee7a-4a2c928d3cf8"
      },
      "execution_count": 14,
      "outputs": [
        {
          "output_type": "execute_result",
          "data": {
            "text/plain": [
              "array([0.03096734, 0.25428207, 0.91240044, 0.9701742 , 0.24661978])"
            ]
          },
          "metadata": {},
          "execution_count": 14
        }
      ]
    },
    {
      "cell_type": "markdown",
      "source": [
        "# Using np.random.choice"
      ],
      "metadata": {
        "id": "myKrqZ6pGNUj"
      }
    },
    {
      "cell_type": "code",
      "source": [
        "events = [0, 1]\n",
        "np.random.choice(events, size = 20)"
      ],
      "metadata": {
        "colab": {
          "base_uri": "https://localhost:8080/"
        },
        "id": "DlxrWD42F_w1",
        "outputId": "f3e70228-b6b4-482d-a5f5-bd4700b33f61"
      },
      "execution_count": 15,
      "outputs": [
        {
          "output_type": "execute_result",
          "data": {
            "text/plain": [
              "array([0, 1, 1, 1, 0, 0, 0, 0, 0, 1, 1, 1, 1, 1, 0, 0, 1, 0, 0, 1])"
            ]
          },
          "metadata": {},
          "execution_count": 15
        }
      ]
    },
    {
      "cell_type": "code",
      "source": [
        "events = ['H','T']\n",
        "np.random.choice(events, size = 20)"
      ],
      "metadata": {
        "colab": {
          "base_uri": "https://localhost:8080/"
        },
        "id": "muDmw3FWGUy_",
        "outputId": "3461d994-37ab-48ed-b6cb-379e5db3d5ac"
      },
      "execution_count": 18,
      "outputs": [
        {
          "output_type": "execute_result",
          "data": {
            "text/plain": [
              "array(['T', 'T', 'T', 'H', 'H', 'H', 'T', 'H', 'H', 'H', 'H', 'T', 'H',\n",
              "       'H', 'H', 'H', 'H', 'T', 'H', 'T'], dtype='<U1')"
            ]
          },
          "metadata": {},
          "execution_count": 18
        }
      ]
    },
    {
      "cell_type": "code",
      "source": [
        "np.random.choice(events, size = 1000, p =[0.1, 0.9])"
      ],
      "metadata": {
        "colab": {
          "base_uri": "https://localhost:8080/"
        },
        "id": "rL3ZBoE_Gh_d",
        "outputId": "4d05265f-febc-4b09-b0f6-96b20f602f76"
      },
      "execution_count": 21,
      "outputs": [
        {
          "output_type": "execute_result",
          "data": {
            "text/plain": [
              "array(['T', 'T', 'T', 'T', 'T', 'T', 'T', 'T', 'T', 'T', 'T', 'T', 'T',\n",
              "       'T', 'T', 'T', 'T', 'T', 'T', 'T', 'T', 'T', 'T', 'T', 'T', 'T',\n",
              "       'T', 'T', 'T', 'T', 'T', 'T', 'T', 'T', 'H', 'T', 'T', 'T', 'T',\n",
              "       'T', 'T', 'T', 'T', 'T', 'T', 'T', 'T', 'T', 'T', 'T', 'T', 'T',\n",
              "       'T', 'T', 'T', 'T', 'T', 'T', 'T', 'T', 'T', 'T', 'T', 'T', 'T',\n",
              "       'T', 'T', 'T', 'T', 'T', 'T', 'T', 'T', 'T', 'T', 'T', 'T', 'T',\n",
              "       'T', 'T', 'T', 'T', 'T', 'T', 'T', 'T', 'T', 'H', 'T', 'T', 'T',\n",
              "       'T', 'T', 'H', 'T', 'T', 'H', 'T', 'T', 'T', 'T', 'T', 'T', 'H',\n",
              "       'T', 'T', 'T', 'T', 'T', 'T', 'T', 'T', 'T', 'H', 'T', 'T', 'T',\n",
              "       'T', 'T', 'T', 'T', 'T', 'H', 'H', 'T', 'T', 'T', 'T', 'T', 'T',\n",
              "       'T', 'T', 'T', 'T', 'T', 'H', 'T', 'T', 'H', 'T', 'T', 'T', 'T',\n",
              "       'T', 'T', 'H', 'T', 'T', 'T', 'T', 'T', 'T', 'T', 'T', 'T', 'T',\n",
              "       'T', 'T', 'T', 'T', 'T', 'H', 'T', 'T', 'T', 'T', 'T', 'T', 'T',\n",
              "       'T', 'T', 'T', 'T', 'T', 'H', 'H', 'T', 'T', 'T', 'T', 'T', 'T',\n",
              "       'T', 'T', 'T', 'T', 'T', 'T', 'T', 'T', 'T', 'T', 'T', 'T', 'T',\n",
              "       'T', 'T', 'T', 'T', 'T', 'T', 'T', 'T', 'H', 'T', 'T', 'H', 'T',\n",
              "       'H', 'T', 'T', 'T', 'T', 'T', 'T', 'T', 'T', 'T', 'T', 'T', 'T',\n",
              "       'T', 'T', 'T', 'T', 'T', 'T', 'T', 'T', 'T', 'T', 'T', 'T', 'T',\n",
              "       'T', 'H', 'T', 'T', 'H', 'T', 'T', 'T', 'T', 'T', 'T', 'T', 'T',\n",
              "       'T', 'T', 'H', 'T', 'T', 'T', 'T', 'T', 'T', 'T', 'T', 'T', 'T',\n",
              "       'T', 'T', 'T', 'T', 'T', 'T', 'T', 'T', 'T', 'T', 'T', 'T', 'T',\n",
              "       'T', 'T', 'T', 'T', 'H', 'T', 'H', 'T', 'T', 'T', 'H', 'T', 'T',\n",
              "       'T', 'T', 'T', 'T', 'T', 'T', 'T', 'T', 'T', 'T', 'T', 'T', 'T',\n",
              "       'T', 'T', 'T', 'T', 'T', 'T', 'T', 'H', 'T', 'T', 'T', 'T', 'T',\n",
              "       'T', 'T', 'T', 'T', 'T', 'T', 'T', 'T', 'T', 'T', 'T', 'T', 'T',\n",
              "       'T', 'T', 'T', 'T', 'T', 'H', 'H', 'T', 'H', 'T', 'T', 'T', 'T',\n",
              "       'T', 'T', 'T', 'T', 'T', 'T', 'T', 'T', 'T', 'T', 'T', 'T', 'T',\n",
              "       'T', 'T', 'T', 'T', 'T', 'T', 'T', 'T', 'T', 'T', 'T', 'T', 'T',\n",
              "       'T', 'T', 'T', 'T', 'T', 'T', 'T', 'T', 'T', 'T', 'T', 'H', 'H',\n",
              "       'T', 'T', 'T', 'T', 'T', 'T', 'T', 'T', 'H', 'T', 'T', 'T', 'T',\n",
              "       'T', 'T', 'T', 'T', 'T', 'T', 'T', 'T', 'T', 'T', 'T', 'T', 'T',\n",
              "       'H', 'T', 'T', 'T', 'T', 'H', 'T', 'T', 'T', 'T', 'T', 'T', 'H',\n",
              "       'T', 'T', 'T', 'T', 'T', 'T', 'T', 'T', 'T', 'T', 'T', 'T', 'T',\n",
              "       'T', 'T', 'T', 'T', 'T', 'T', 'H', 'T', 'T', 'T', 'T', 'T', 'T',\n",
              "       'T', 'T', 'T', 'T', 'T', 'T', 'T', 'T', 'T', 'T', 'T', 'T', 'T',\n",
              "       'T', 'T', 'T', 'T', 'T', 'T', 'T', 'T', 'T', 'H', 'T', 'T', 'T',\n",
              "       'T', 'H', 'T', 'T', 'T', 'T', 'T', 'T', 'T', 'T', 'T', 'H', 'T',\n",
              "       'T', 'T', 'T', 'H', 'T', 'T', 'T', 'T', 'T', 'T', 'T', 'T', 'T',\n",
              "       'T', 'T', 'H', 'T', 'T', 'T', 'T', 'T', 'T', 'T', 'T', 'H', 'T',\n",
              "       'T', 'T', 'T', 'T', 'T', 'T', 'T', 'T', 'T', 'T', 'T', 'H', 'T',\n",
              "       'T', 'H', 'T', 'T', 'T', 'T', 'T', 'T', 'H', 'T', 'T', 'T', 'T',\n",
              "       'T', 'T', 'T', 'T', 'T', 'T', 'T', 'T', 'T', 'T', 'T', 'T', 'T',\n",
              "       'T', 'T', 'T', 'T', 'T', 'T', 'T', 'T', 'T', 'T', 'T', 'T', 'T',\n",
              "       'T', 'T', 'T', 'T', 'H', 'H', 'T', 'T', 'T', 'T', 'T', 'T', 'T',\n",
              "       'H', 'T', 'T', 'T', 'T', 'H', 'T', 'T', 'H', 'T', 'H', 'T', 'T',\n",
              "       'T', 'T', 'T', 'T', 'T', 'T', 'T', 'H', 'T', 'T', 'T', 'T', 'T',\n",
              "       'T', 'T', 'T', 'H', 'H', 'T', 'H', 'T', 'T', 'T', 'T', 'T', 'T',\n",
              "       'T', 'T', 'T', 'T', 'T', 'T', 'T', 'H', 'T', 'T', 'T', 'T', 'T',\n",
              "       'H', 'H', 'T', 'T', 'T', 'T', 'T', 'H', 'T', 'T', 'T', 'T', 'H',\n",
              "       'T', 'T', 'H', 'T', 'T', 'T', 'T', 'T', 'T', 'T', 'T', 'T', 'T',\n",
              "       'T', 'T', 'T', 'T', 'T', 'T', 'T', 'H', 'T', 'T', 'T', 'T', 'T',\n",
              "       'T', 'T', 'T', 'T', 'H', 'T', 'T', 'H', 'T', 'T', 'T', 'T', 'T',\n",
              "       'T', 'T', 'T', 'T', 'T', 'T', 'T', 'T', 'T', 'T', 'T', 'T', 'T',\n",
              "       'T', 'T', 'T', 'T', 'T', 'T', 'T', 'T', 'H', 'T', 'T', 'T', 'T',\n",
              "       'T', 'T', 'T', 'T', 'T', 'T', 'H', 'T', 'T', 'T', 'T', 'H', 'T',\n",
              "       'T', 'T', 'T', 'T', 'H', 'T', 'T', 'T', 'T', 'H', 'T', 'T', 'T',\n",
              "       'H', 'T', 'T', 'T', 'T', 'T', 'T', 'T', 'T', 'H', 'T', 'T', 'T',\n",
              "       'T', 'T', 'T', 'T', 'T', 'H', 'T', 'T', 'T', 'T', 'T', 'T', 'H',\n",
              "       'T', 'T', 'T', 'T', 'T', 'T', 'T', 'T', 'H', 'T', 'T', 'H', 'T',\n",
              "       'T', 'T', 'T', 'T', 'T', 'T', 'T', 'T', 'T', 'T', 'T', 'T', 'T',\n",
              "       'T', 'T', 'T', 'T', 'T', 'T', 'T', 'T', 'T', 'T', 'T', 'T', 'T',\n",
              "       'T', 'T', 'T', 'T', 'T', 'T', 'T', 'T', 'T', 'T', 'T', 'T', 'T',\n",
              "       'T', 'T', 'T', 'T', 'T', 'T', 'T', 'T', 'T', 'T', 'T', 'H', 'T',\n",
              "       'T', 'H', 'T', 'T', 'T', 'T', 'T', 'T', 'H', 'T', 'T', 'T', 'T',\n",
              "       'T', 'T', 'T', 'T', 'T', 'H', 'T', 'T', 'T', 'T', 'T', 'T', 'T',\n",
              "       'T', 'T', 'T', 'T', 'T', 'T', 'T', 'T', 'T', 'T', 'T', 'T', 'T',\n",
              "       'H', 'T', 'T', 'T', 'T', 'T', 'H', 'T', 'T', 'T', 'T', 'T', 'T',\n",
              "       'T', 'T', 'T', 'T', 'T', 'T', 'T', 'T', 'T', 'H', 'H', 'T', 'T',\n",
              "       'H', 'T', 'T', 'H', 'H', 'T', 'T', 'T', 'T', 'T', 'T', 'T', 'T',\n",
              "       'T', 'T', 'T', 'T', 'T', 'T', 'T', 'T', 'T', 'T', 'T', 'H', 'T',\n",
              "       'H', 'T', 'T', 'T', 'T', 'T', 'T', 'T', 'T', 'T', 'T', 'T', 'T',\n",
              "       'T', 'T', 'T', 'T', 'H', 'T', 'T', 'T', 'T', 'T', 'T', 'T', 'T',\n",
              "       'T', 'H', 'T', 'T', 'H', 'T', 'T', 'T', 'T', 'T', 'T', 'T', 'T',\n",
              "       'T', 'T', 'T', 'H', 'T', 'T', 'T', 'T', 'T', 'T', 'T', 'T', 'T',\n",
              "       'T', 'T', 'T', 'H', 'T', 'T', 'T', 'T', 'T', 'H', 'T', 'H', 'T',\n",
              "       'T', 'T', 'T', 'T', 'T', 'T', 'T', 'H', 'T', 'T', 'T', 'T', 'T',\n",
              "       'T', 'H', 'T', 'T', 'T', 'T', 'T', 'T', 'T', 'T', 'T', 'T'],\n",
              "      dtype='<U1')"
            ]
          },
          "metadata": {},
          "execution_count": 21
        }
      ]
    },
    {
      "cell_type": "code",
      "source": [
        "data = range(900, 1000)\n",
        "np.random.choice(data, size = 10)"
      ],
      "metadata": {
        "colab": {
          "base_uri": "https://localhost:8080/"
        },
        "id": "vag_LCQPG_4T",
        "outputId": "6ab440a2-c628-4e6a-dab5-47357db38736"
      },
      "execution_count": 22,
      "outputs": [
        {
          "output_type": "execute_result",
          "data": {
            "text/plain": [
              "array([960, 944, 937, 942, 967, 920, 999, 989, 936, 995])"
            ]
          },
          "metadata": {},
          "execution_count": 22
        }
      ]
    },
    {
      "cell_type": "code",
      "source": [
        "# without replacement\n",
        "np.random.choice(data, size = 10, replace = False)"
      ],
      "metadata": {
        "colab": {
          "base_uri": "https://localhost:8080/"
        },
        "id": "5vvdFxCpHJCQ",
        "outputId": "417ea446-0687-4e22-d206-7f2f556602eb"
      },
      "execution_count": 23,
      "outputs": [
        {
          "output_type": "execute_result",
          "data": {
            "text/plain": [
              "array([961, 972, 969, 904, 976, 947, 929, 973, 919, 914])"
            ]
          },
          "metadata": {},
          "execution_count": 23
        }
      ]
    },
    {
      "cell_type": "code",
      "source": [
        "data = np.random.randint(0, 100, size = 5)"
      ],
      "metadata": {
        "id": "2PrOFYYjHOVO"
      },
      "execution_count": 24,
      "outputs": []
    },
    {
      "cell_type": "code",
      "source": [
        "data"
      ],
      "metadata": {
        "colab": {
          "base_uri": "https://localhost:8080/"
        },
        "id": "Noco43FfH-jT",
        "outputId": "9e56e156-2d07-4e3c-f89f-eea478541862"
      },
      "execution_count": 25,
      "outputs": [
        {
          "output_type": "execute_result",
          "data": {
            "text/plain": [
              "array([30, 81, 16, 41, 92])"
            ]
          },
          "metadata": {},
          "execution_count": 25
        }
      ]
    },
    {
      "cell_type": "code",
      "source": [
        "np.random.shuffle(data)\n",
        "data"
      ],
      "metadata": {
        "colab": {
          "base_uri": "https://localhost:8080/"
        },
        "id": "K2kWS9s2H_EC",
        "outputId": "fd5793a4-8b3f-4476-83e7-cb21f3192a0e"
      },
      "execution_count": 26,
      "outputs": [
        {
          "output_type": "execute_result",
          "data": {
            "text/plain": [
              "array([92, 16, 81, 30, 41])"
            ]
          },
          "metadata": {},
          "execution_count": 26
        }
      ]
    },
    {
      "cell_type": "code",
      "source": [
        "np.random.permutation(9)"
      ],
      "metadata": {
        "colab": {
          "base_uri": "https://localhost:8080/"
        },
        "id": "UbIIS_l7IRoL",
        "outputId": "3241bcda-52db-46cd-f270-552271789adf"
      },
      "execution_count": 31,
      "outputs": [
        {
          "output_type": "execute_result",
          "data": {
            "text/plain": [
              "array([2, 6, 3, 7, 4, 8, 1, 0, 5])"
            ]
          },
          "metadata": {},
          "execution_count": 31
        }
      ]
    },
    {
      "cell_type": "code",
      "source": [
        "np.random.permutation([2, 67, 43, 56, 54,44])"
      ],
      "metadata": {
        "colab": {
          "base_uri": "https://localhost:8080/"
        },
        "id": "N68tdv6tIB8i",
        "outputId": "6720bdd7-e39b-4f4d-9974-2205799ddc7d"
      },
      "execution_count": 30,
      "outputs": [
        {
          "output_type": "execute_result",
          "data": {
            "text/plain": [
              "array([43, 67, 54,  2, 44, 56])"
            ]
          },
          "metadata": {},
          "execution_count": 30
        }
      ]
    },
    {
      "cell_type": "code",
      "source": [
        "np.random.binomial(10, 0.5, size = 10)"
      ],
      "metadata": {
        "colab": {
          "base_uri": "https://localhost:8080/"
        },
        "id": "IodgF0acIEkG",
        "outputId": "e559eba1-9a20-4edf-dec8-8a7cc01e3465"
      },
      "execution_count": 33,
      "outputs": [
        {
          "output_type": "execute_result",
          "data": {
            "text/plain": [
              "array([7, 4, 6, 5, 5, 5, 6, 5, 8, 5])"
            ]
          },
          "metadata": {},
          "execution_count": 33
        }
      ]
    },
    {
      "cell_type": "code",
      "source": [
        "data = np.random.binomial(10, 0.25, size = 1000)\n",
        "plt.hist(data, bins = range(11), density = True, align = 'left')\n",
        "plt.show();"
      ],
      "metadata": {
        "colab": {
          "base_uri": "https://localhost:8080/",
          "height": 434
        },
        "id": "nW_0kvogIbV_",
        "outputId": "fd366b5c-8fe9-4340-f670-5108e7f28156"
      },
      "execution_count": 36,
      "outputs": [
        {
          "output_type": "display_data",
          "data": {
            "text/plain": [
              "<Figure size 640x480 with 1 Axes>"
            ],
            "image/png": "[encoded data removed]"
          },
          "metadata": {}
        }
      ]
    },
    {
      "cell_type": "code",
      "source": [
        "data = np.random.beta(2, 2, size = 1000)\n",
        "plt.hist(data, bins = 'auto', density = True);"
      ],
      "metadata": {
        "colab": {
          "base_uri": "https://localhost:8080/",
          "height": 434
        },
        "id": "KJMtgAwJI-n_",
        "outputId": "50ca260c-472c-468c-f5e0-fa3a0a29db7b"
      },
      "execution_count": 37,
      "outputs": [
        {
          "output_type": "display_data",
          "data": {
            "text/plain": [
              "<Figure size 640x480 with 1 Axes>"
            ],
            "image/png": "[encoded data removed]"
          },
          "metadata": {}
        }
      ]
    },
    {
      "cell_type": "code",
      "source": [
        "n= 10000\n",
        "data_t = np.random.standard_t(1000, size = n)\n",
        "data_n = np.random.normal(size = n)\n",
        "plt.hist((data_t, data_n), bins = 'auto', density = True);"
      ],
      "metadata": {
        "colab": {
          "base_uri": "https://localhost:8080/",
          "height": 430
        },
        "id": "hTlS041yJNDN",
        "outputId": "85df5134-1974-4c48-8bec-e0d42ce52535"
      },
      "execution_count": 41,
      "outputs": [
        {
          "output_type": "display_data",
          "data": {
            "text/plain": [
              "<Figure size 640x480 with 1 Axes>"
            ],
            "image/png": "[encoded data removed]"
          },
          "metadata": {}
        }
      ]
    },
    {
      "cell_type": "markdown",
      "source": [
        "# Using scipy.stats"
      ],
      "metadata": {
        "id": "4ybKlK2LMyxt"
      }
    },
    {
      "cell_type": "code",
      "source": [
        "from scipy.stats import norm, binom, poisson\n",
        "from ipywidgets import interact"
      ],
      "metadata": {
        "id": "EVOUlK72MZ1e"
      },
      "execution_count": 42,
      "outputs": []
    },
    {
      "cell_type": "code",
      "source": [
        "def plot_binom(n, p):\n",
        "  rv = binom(n, p)\n",
        "  x = np.arange(0, n + 1)\n",
        "  plt.plot(x, rv.pmf(x), 'bo')\n",
        "  plt.vlines(x, 0, rv.pmf(x), colors = 'b', alpha = 0.5, lw = 5)\n",
        "  # compare with normal distribution\n",
        "  mu, sigma = n*p, np.sqrt(n*p*(1-p))\n",
        "  x1 = np.linspace(0, n+1)\n",
        "  plt.plot(x1, norm.pdf(x1, loc = mu, scale = sigma), 'g--')"
      ],
      "metadata": {
        "id": "C2VTXx4wM-6A"
      },
      "execution_count": 44,
      "outputs": []
    },
    {
      "cell_type": "code",
      "source": [
        "interact(plot_binom, n=(1, 100), p=(0.01, 0.99));"
      ],
      "metadata": {
        "colab": {
          "base_uri": "https://localhost:8080/",
          "height": 494,
          "referenced_widgets": [
            "1432ad188acc4f47b2258e62a67498fd",
            "11701eec22c64f02af0213ca94322f6d",
            "af17ef7afded4869b1ee997421c611f7",
            "f1df823d5e3045518ff93e254d3f9cf6",
            "e48a4f19ea1543c59515fe9f4ada7972",
            "9646b4b19e4d4764ac637dade9f652ad",
            "eb305c8781c44d5988936ec868898d1f",
            "04301ea4f2df4702a2a11e1dd9f0ac6e",
            "d1e108b1720140598a2c3189bdd8c74a",
            "9421ffb4eec245daaa9467722cfb0255"
          ]
        },
        "id": "fjsuseA1N13_",
        "outputId": "42e553e0-0854-43c4-a4bb-f125e876999b"
      },
      "execution_count": 45,
      "outputs": [
        {
          "output_type": "display_data",
          "data": {
            "text/plain": [
              "interactive(children=(IntSlider(value=50, description='n', min=1), FloatSlider(value=0.5, description='p', max…"
            ],
            "application/vnd.jupyter.widget-view+json": {
              "version_major": 2,
              "version_minor": 0,
              "model_id": "1432ad188acc4f47b2258e62a67498fd"
            }
          },
          "metadata": {}
        }
      ]
    },
    {
      "cell_type": "code",
      "source": [
        "def plot_poisson(lam=4):\n",
        "    rv = poisson(lam)\n",
        "    min, max = rv.ppf(0.0001), rv.ppf(0.9999999999)\n",
        "    x = np.arange(min, max)\n",
        "    plt.plot(x, norm.pdf(x, loc=lam, scale=np.sqrt(lam)), 'g--')\n",
        "    plt.plot(x, rv.pmf(x), 'bo')\n",
        "    plt.vlines(x, 0, rv.pmf(x), colors='b', alpha=0.5, lw=5)\n",
        "    plt.xlim(0, 50)"
      ],
      "metadata": {
        "id": "IBgcBtjsONZf"
      },
      "execution_count": 46,
      "outputs": []
    },
    {
      "cell_type": "code",
      "source": [
        "interact(plot_poisson, lam=(0.0, 100));"
      ],
      "metadata": {
        "colab": {
          "base_uri": "https://localhost:8080/",
          "height": 462,
          "referenced_widgets": [
            "3979f379b0004198b14099de22ffb312",
            "26137b5f7d68475c87fef55c411a546d",
            "73a0ef77322549408562d4d8a488a136",
            "5d008b4aa2e748b4a246af54a19dab00",
            "c8eb2b2d02724e0ba155659af51c7ab9",
            "b51abdaf58b5471aa4da629473a59dbe",
            "2b57bee0d61945389a845676a3adacc0"
          ]
        },
        "id": "GCLdhpwoOhO5",
        "outputId": "4755702f-ff0f-45fe-fd41-2c0ebf2b0c39"
      },
      "execution_count": 47,
      "outputs": [
        {
          "output_type": "display_data",
          "data": {
            "text/plain": [
              "interactive(children=(FloatSlider(value=4.0, description='lam'), Output()), _dom_classes=('widget-interact',))"
            ],
            "application/vnd.jupyter.widget-view+json": {
              "version_major": 2,
              "version_minor": 0,
              "model_id": "3979f379b0004198b14099de22ffb312"
            }
          },
          "metadata": {}
        }
      ]
    },
    {
      "cell_type": "code",
      "source": [
        "from scipy.stats import t\n",
        "\n",
        "def plot_t(n=1):\n",
        "    rv = t(n)\n",
        "    x = np.linspace(-5, 5, 200)\n",
        "    #plt.figure(figsize=(20, 10))\n",
        "    plt.plot(x, norm.pdf(x), 'g--')\n",
        "    plt.plot(x, rv.pdf(x))"
      ],
      "metadata": {
        "id": "hsEg4OznOh2N"
      },
      "execution_count": 48,
      "outputs": []
    },
    {
      "cell_type": "code",
      "source": [
        "interact(plot_t, n=(1, 50));"
      ],
      "metadata": {
        "colab": {
          "base_uri": "https://localhost:8080/",
          "height": 462,
          "referenced_widgets": [
            "8a5520cfa96e430a9138edb41791d126",
            "6bb9ff5e2f6843998984640ecb7376e7",
            "021b4d3e55cb4ab4be57747c2cd1b655",
            "5d39e6015f74496a966f5d78d48d712a",
            "524681d2705041d8a6cf3cfe2f29d009",
            "24bb616f6cf24fedac2ae8b9a832d4bc",
            "5dede3d8fbe54be5bdcf9382845677c7"
          ]
        },
        "id": "2-WA_CAeOmxg",
        "outputId": "b83dcdd7-4925-461b-8d39-f56af2a17435"
      },
      "execution_count": 49,
      "outputs": [
        {
          "output_type": "display_data",
          "data": {
            "text/plain": [
              "interactive(children=(IntSlider(value=1, description='n', max=50, min=1), Output()), _dom_classes=('widget-int…"
            ],
            "application/vnd.jupyter.widget-view+json": {
              "version_major": 2,
              "version_minor": 0,
              "model_id": "8a5520cfa96e430a9138edb41791d126"
            }
          },
          "metadata": {}
        }
      ]
    },
    {
      "cell_type": "markdown",
      "source": [
        "# Why is this useful?\n",
        "Can understand and study these distributions.\n",
        "\n",
        "Allows you to construct experiments with random variables.\n",
        "\n",
        "Can numerically explore very interesting and important questions.\n",
        "\n",
        "Gateway to look at Monte-Carlo methods!\n",
        "\n",
        "Such methods can defeat the curse of dimensionality!"
      ],
      "metadata": {
        "id": "U2y26ogwR8aP"
      }
    },
    {
      "cell_type": "code",
      "source": [
        "x = np.random.random((5, 2))\n",
        "x"
      ],
      "metadata": {
        "colab": {
          "base_uri": "https://localhost:8080/"
        },
        "id": "rzb0bvruOozY",
        "outputId": "0ac9275b-2477-4d29-f73e-e47c7d5935d1"
      },
      "execution_count": 50,
      "outputs": [
        {
          "output_type": "execute_result",
          "data": {
            "text/plain": [
              "array([[0.56061413, 0.29762351],\n",
              "       [0.7536576 , 0.52582947],\n",
              "       [0.64485187, 0.71664483],\n",
              "       [0.41428431, 0.75000033],\n",
              "       [0.95386046, 0.27226569]])"
            ]
          },
          "metadata": {},
          "execution_count": 50
        }
      ]
    },
    {
      "cell_type": "code",
      "source": [
        "np.linalg.norm(x)"
      ],
      "metadata": {
        "colab": {
          "base_uri": "https://localhost:8080/"
        },
        "id": "Vvz49pxdSEKM",
        "outputId": "eb4c5460-3edc-41b9-f541-2e175c5e8348"
      },
      "execution_count": 51,
      "outputs": [
        {
          "output_type": "execute_result",
          "data": {
            "text/plain": [
              "np.float64(1.9735471826422923)"
            ]
          },
          "metadata": {},
          "execution_count": 51
        }
      ]
    },
    {
      "cell_type": "code",
      "source": [
        "np.linalg.norm(x, axis = 1)"
      ],
      "metadata": {
        "colab": {
          "base_uri": "https://localhost:8080/"
        },
        "id": "oFM4WZqmSPe2",
        "outputId": "9ab1ce7d-1d16-48d4-cc2c-65db7ffcc578"
      },
      "execution_count": 52,
      "outputs": [
        {
          "output_type": "execute_result",
          "data": {
            "text/plain": [
              "array([0.6347188 , 0.91896486, 0.96406107, 0.85681503, 0.99195684])"
            ]
          },
          "metadata": {},
          "execution_count": 52
        }
      ]
    },
    {
      "cell_type": "code",
      "source": [
        "np.linalg.norm(x, axis = 1) < 1.0"
      ],
      "metadata": {
        "colab": {
          "base_uri": "https://localhost:8080/"
        },
        "id": "Q8WnFgNPST6Z",
        "outputId": "79e711cb-0e05-4b05-8e40-e3786331b8bc"
      },
      "execution_count": 53,
      "outputs": [
        {
          "output_type": "execute_result",
          "data": {
            "text/plain": [
              "array([ True,  True,  True,  True,  True])"
            ]
          },
          "metadata": {},
          "execution_count": 53
        }
      ]
    },
    {
      "cell_type": "code",
      "source": [
        "n = 100000\n",
        "(np.linalg.norm(np.random.random((n, 2)), axis=1) < 1).sum()/n*2**2"
      ],
      "metadata": {
        "colab": {
          "base_uri": "https://localhost:8080/"
        },
        "id": "fBWG_w0DSXrF",
        "outputId": "dc9f9139-998c-41f4-e153-fc9f98d29896"
      },
      "execution_count": 54,
      "outputs": [
        {
          "output_type": "execute_result",
          "data": {
            "text/plain": [
              "np.float64(3.1376)"
            ]
          },
          "metadata": {},
          "execution_count": 54
        }
      ]
    },
    {
      "cell_type": "code",
      "source": [
        "scores = np.loadtxt('/content/drive/MyDrive/kohli.txt')"
      ],
      "metadata": {
        "id": "oKAuHLLzSdwz"
      },
      "execution_count": 57,
      "outputs": []
    },
    {
      "cell_type": "code",
      "source": [
        "avg = np.random.choice(scores, size = 100)\n",
        "avg"
      ],
      "metadata": {
        "colab": {
          "base_uri": "https://localhost:8080/"
        },
        "id": "VgpTERZIUmvM",
        "outputId": "1f74836c-8430-4e9f-ade6-cdb1b2db935d"
      },
      "execution_count": 67,
      "outputs": [
        {
          "output_type": "execute_result",
          "data": {
            "text/plain": [
              "array([ 68.,  57.,  26.,  33.,  15.,  68., 115.,  12., 131.,  56., 121.,\n",
              "        12.,  77.,  11.,   7.,  85.,  67.,   0., 123.,  18., 113., 110.,\n",
              "         4.,  34.,  86.,  63.,  18.,   1.,  61.,  23.,  89., 112.,  13.,\n",
              "        17.,  31.,  21.,  11.,   9.,  77.,   5.,  16.,  36., 136.,  36.,\n",
              "         0.,  65.,   0., 166.,  37.,  26.,   3., 118.,  43., 120.,  46.,\n",
              "        82.,  45.,  18.,  66., 116., 138., 113.,  56.,  18.,  12., 100.,\n",
              "        94.,  31., 154.,   9.,  20.,  35.,  85.,   0.,  87., 154.,  22.,\n",
              "        16.,  77.,   9.,   4.,   0.,  38., 101.,   0.,   1.,  14., 116.,\n",
              "       127., 140., 116.,  82.,  81.,  85., 157.,  59.,   4.,  78.,  66.,\n",
              "        37.])"
            ]
          },
          "metadata": {},
          "execution_count": 67
        }
      ]
    },
    {
      "cell_type": "code",
      "source": [
        "np.mean(avg)"
      ],
      "metadata": {
        "colab": {
          "base_uri": "https://localhost:8080/"
        },
        "id": "3nYXpRFGUrBr",
        "outputId": "b9edd3eb-776a-49f0-8004-669d660da74b"
      },
      "execution_count": 68,
      "outputs": [
        {
          "output_type": "execute_result",
          "data": {
            "text/plain": [
              "np.float64(57.11)"
            ]
          },
          "metadata": {},
          "execution_count": 68
        }
      ]
    },
    {
      "cell_type": "code",
      "source": [
        "plt.hist(avg, bins = 'auto', density = True, cumulative = True);\n",
        "plt.grid();"
      ],
      "metadata": {
        "colab": {
          "base_uri": "https://localhost:8080/",
          "height": 430
        },
        "id": "dfotulVXU452",
        "outputId": "c79c7b0c-8d0c-4490-ffb3-a7f94a48bfe7"
      },
      "execution_count": 69,
      "outputs": [
        {
          "output_type": "display_data",
          "data": {
            "text/plain": [
              "<Figure size 640x480 with 1 Axes>"
            ],
            "image/png": "[encoded data removed]"
          },
          "metadata": {}
        }
      ]
    },
    {
      "cell_type": "code",
      "source": [],
      "metadata": {
        "id": "HPL7fjMwVNAJ"
      },
      "execution_count": null,
      "outputs": []
    }
  ]
}