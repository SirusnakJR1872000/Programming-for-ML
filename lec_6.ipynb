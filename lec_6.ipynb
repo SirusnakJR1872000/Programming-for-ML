{
  "nbformat": 4,
  "nbformat_minor": 0,
  "metadata": {
    "colab": {
      "provenance": []
    },
    "kernelspec": {
      "name": "python3",
      "display_name": "Python 3"
    },
    "language_info": {
      "name": "python"
    }
  },
  "cells": [
    {
      "cell_type": "markdown",
      "source": [
        "# Probabilistic Programming\n",
        "\n",
        "### Using the computer for random experiments\n",
        "### Very good for understanding\n"
      ],
      "metadata": {
        "id": "rfsEP-9RWr3V"
      }
    },
    {
      "cell_type": "code",
      "execution_count": null,
      "metadata": {
        "id": "QSlQ4jZyCthb"
      },
      "outputs": [],
      "source": [
        "import numpy as np\n",
        "import matplotlib.pyplot as plt"
      ]
    },
    {
      "cell_type": "code",
      "source": [
        "np.random.randint(low = 0, high = 2, size = 50)"
      ],
      "metadata": {
        "colab": {
          "base_uri": "https://localhost:8080/"
        },
        "id": "ZajwiV2zGE2S",
        "outputId": "1dc80c6d-c5bf-4f76-c58f-76d96c2a335c"
      },
      "execution_count": null,
      "outputs": [
        {
          "output_type": "execute_result",
          "data": {
            "text/plain": [
              "array([0, 1, 0, 1, 0, 0, 0, 1, 0, 0, 0, 1, 0, 1, 0, 1, 1, 1, 1, 1, 0, 1,\n",
              "       1, 0, 0, 0, 1, 0, 1, 1, 0, 0, 1, 1, 0, 0, 1, 0, 1, 1, 1, 0, 1, 1,\n",
              "       1, 1, 0, 1, 0, 1])"
            ]
          },
          "metadata": {},
          "execution_count": 3
        }
      ]
    },
    {
      "cell_type": "markdown",
      "source": [
        "### Lets create a function got 4 sided die"
      ],
      "metadata": {
        "id": "4AxbWgiCXT2n"
      }
    },
    {
      "cell_type": "code",
      "source": [
        "def tet(size =1):\n",
        "  return np.random.randint(low = 1, high = 5, size = size)"
      ],
      "metadata": {
        "id": "O2vWBKuxXCxK"
      },
      "execution_count": null,
      "outputs": []
    },
    {
      "cell_type": "code",
      "source": [
        "tet(10)"
      ],
      "metadata": {
        "colab": {
          "base_uri": "https://localhost:8080/"
        },
        "id": "kKQQVas_XodT",
        "outputId": "7ce3b29a-0048-413c-c110-8068ea8aed57"
      },
      "execution_count": null,
      "outputs": [
        {
          "output_type": "execute_result",
          "data": {
            "text/plain": [
              "array([4, 2, 2, 2, 3, 2, 4, 3, 3, 2])"
            ]
          },
          "metadata": {},
          "execution_count": 5
        }
      ]
    },
    {
      "cell_type": "markdown",
      "source": [
        "### Using unifromly distributed random numbers"
      ],
      "metadata": {
        "id": "1ODEel_1XuqM"
      }
    },
    {
      "cell_type": "code",
      "source": [
        "np.random.random(5)"
      ],
      "metadata": {
        "colab": {
          "base_uri": "https://localhost:8080/"
        },
        "id": "9U2NUYdzXpf3",
        "outputId": "c7000836-157a-45f3-df63-3bc8de08b732"
      },
      "execution_count": null,
      "outputs": [
        {
          "output_type": "execute_result",
          "data": {
            "text/plain": [
              "array([0.54065174, 0.13590213, 0.59492617, 0.79912249, 0.16822646])"
            ]
          },
          "metadata": {},
          "execution_count": 6
        }
      ]
    },
    {
      "cell_type": "code",
      "source": [
        "np.random.random((3, 3))"
      ],
      "metadata": {
        "colab": {
          "base_uri": "https://localhost:8080/"
        },
        "id": "UHxwsSEGX3en",
        "outputId": "9544348a-0983-4d0f-86e5-434cade1cb8a"
      },
      "execution_count": null,
      "outputs": [
        {
          "output_type": "execute_result",
          "data": {
            "text/plain": [
              "array([[0.46959123, 0.43064332, 0.70151039],\n",
              "       [0.3797863 , 0.08292964, 0.16680223],\n",
              "       [0.5868111 , 0.60833751, 0.84551891]])"
            ]
          },
          "metadata": {},
          "execution_count": 7
        }
      ]
    },
    {
      "cell_type": "code",
      "source": [
        "x = np.random.random(size = 1000000)"
      ],
      "metadata": {
        "id": "unZBkUsmYGTf"
      },
      "execution_count": null,
      "outputs": []
    },
    {
      "cell_type": "code",
      "source": [
        "plt.hist(x, bins = 'auto', density = True, edgecolor = 'black')"
      ],
      "metadata": {
        "colab": {
          "base_uri": "https://localhost:8080/",
          "height": 1000
        },
        "id": "H05WSAk4YKtJ",
        "outputId": "f1ca66a7-7a2e-470c-bf50-6a77ac3e54a8"
      },
      "execution_count": null,
      "outputs": [
        {
          "output_type": "execute_result",
          "data": {
            "text/plain": [
              "(array([1.00535479, 0.99535578, 1.0213128 , 1.0151518 , 1.0145458 ,\n",
              "        1.0140408 , 0.99929478, 1.00929379, 0.99939578, 0.99222478,\n",
              "        0.99010378, 0.99070978, 1.00646579, 0.99272978, 1.00434479,\n",
              "        1.01131379, 1.00424379, 0.99020478, 1.00515279, 0.98343777,\n",
              "        0.99343678, 0.98636677, 0.99485078, 0.99717378, 1.00707179,\n",
              "        1.01030379, 1.00949579, 1.00727379, 0.99646678, 1.0205048 ,\n",
              "        0.99646678, 0.99656778, 0.99969878, 0.99959778, 0.98525577,\n",
              "        1.00202179, 1.00737479, 0.99182078, 0.99444678, 1.01222279,\n",
              "        0.98858878, 0.99474978, 0.97778177, 1.00606179, 1.00111279,\n",
              "        1.00969779, 1.00161779, 1.00909179, 1.00272879, 0.99697178,\n",
              "        1.00565779, 1.0164648 , 1.00010279, 1.0226258 , 0.99687078,\n",
              "        1.01222279, 1.00010279, 0.99424478, 0.99283078, 0.99818378,\n",
              "        1.00000179, 1.00222379, 1.0163638 , 1.00545579, 0.99111378,\n",
              "        1.00434479, 0.98990178, 0.99444678, 1.00585979, 0.98111477,\n",
              "        0.98071077, 0.99272978, 1.00767779, 0.99626478, 0.99485078,\n",
              "        0.99424478, 1.00525379, 1.00747579, 1.01212179, 0.98535677,\n",
              "        0.98060977, 0.98969978, 0.99010378, 0.99676978, 0.99515378,\n",
              "        1.00717279, 1.0206058 , 0.99394178, 1.01121279, 0.98565977,\n",
              "        0.98879078, 0.99333578, 1.01242479, 0.98121577, 1.00656679,\n",
              "        1.00171879, 0.98767978, 0.99919378, 0.99414378, 1.0181818 ,\n",
              "        0.99757778]),\n",
              " array([4.56256492e-07, 9.90143858e-03, 1.98024209e-02, 2.97034032e-02,\n",
              "        3.96043856e-02, 4.95053679e-02, 5.94063502e-02, 6.93073325e-02,\n",
              "        7.92083149e-02, 8.91092972e-02, 9.90102795e-02, 1.08911262e-01,\n",
              "        1.18812244e-01, 1.28713227e-01, 1.38614209e-01, 1.48515191e-01,\n",
              "        1.58416173e-01, 1.68317156e-01, 1.78218138e-01, 1.88119120e-01,\n",
              "        1.98020103e-01, 2.07921085e-01, 2.17822067e-01, 2.27723050e-01,\n",
              "        2.37624032e-01, 2.47525014e-01, 2.57425997e-01, 2.67326979e-01,\n",
              "        2.77227961e-01, 2.87128944e-01, 2.97029926e-01, 3.06930908e-01,\n",
              "        3.16831891e-01, 3.26732873e-01, 3.36633855e-01, 3.46534838e-01,\n",
              "        3.56435820e-01, 3.66336802e-01, 3.76237785e-01, 3.86138767e-01,\n",
              "        3.96039749e-01, 4.05940732e-01, 4.15841714e-01, 4.25742696e-01,\n",
              "        4.35643679e-01, 4.45544661e-01, 4.55445643e-01, 4.65346626e-01,\n",
              "        4.75247608e-01, 4.85148590e-01, 4.95049573e-01, 5.04950555e-01,\n",
              "        5.14851537e-01, 5.24752520e-01, 5.34653502e-01, 5.44554484e-01,\n",
              "        5.54455467e-01, 5.64356449e-01, 5.74257431e-01, 5.84158414e-01,\n",
              "        5.94059396e-01, 6.03960378e-01, 6.13861361e-01, 6.23762343e-01,\n",
              "        6.33663325e-01, 6.43564307e-01, 6.53465290e-01, 6.63366272e-01,\n",
              "        6.73267254e-01, 6.83168237e-01, 6.93069219e-01, 7.02970201e-01,\n",
              "        7.12871184e-01, 7.22772166e-01, 7.32673148e-01, 7.42574131e-01,\n",
              "        7.52475113e-01, 7.62376095e-01, 7.72277078e-01, 7.82178060e-01,\n",
              "        7.92079042e-01, 8.01980025e-01, 8.11881007e-01, 8.21781989e-01,\n",
              "        8.31682972e-01, 8.41583954e-01, 8.51484936e-01, 8.61385919e-01,\n",
              "        8.71286901e-01, 8.81187883e-01, 8.91088866e-01, 9.00989848e-01,\n",
              "        9.10890830e-01, 9.20791813e-01, 9.30692795e-01, 9.40593777e-01,\n",
              "        9.50494760e-01, 9.60395742e-01, 9.70296724e-01, 9.80197707e-01,\n",
              "        9.90098689e-01, 9.99999671e-01]),\n",
              " <BarContainer object of 101 artists>)"
            ]
          },
          "metadata": {},
          "execution_count": 12
        },
        {
          "output_type": "display_data",
          "data": {
            "text/plain": [
              "<Figure size 640x480 with 1 Axes>"
            ],
            "image/png": "[encoded data removed]"
          },
          "metadata": {}
        }
      ]
    },
    {
      "cell_type": "code",
      "source": [
        "x = np.random.random(1000000)\n",
        "y = 2*x - 1\n",
        "plt.hist(y, bins = 'auto', density = True, edgecolor = 'black');"
      ],
      "metadata": {
        "colab": {
          "base_uri": "https://localhost:8080/",
          "height": 430
        },
        "id": "YFJ6A0AGYo1E",
        "outputId": "adb4df97-8104-4af6-ffc1-df14e85ab58c"
      },
      "execution_count": null,
      "outputs": [
        {
          "output_type": "display_data",
          "data": {
            "text/plain": [
              "<Figure size 640x480 with 1 Axes>"
            ],
            "image/png": "[encoded data removed]"
          },
          "metadata": {}
        }
      ]
    },
    {
      "cell_type": "code",
      "source": [
        "y"
      ],
      "metadata": {
        "colab": {
          "base_uri": "https://localhost:8080/"
        },
        "id": "vfi-471ZY25y",
        "outputId": "80f88713-c945-4b3d-ba3e-42dd5cca458e"
      },
      "execution_count": null,
      "outputs": [
        {
          "output_type": "execute_result",
          "data": {
            "text/plain": [
              "array([ 0.84153978,  0.87032271,  0.04481104, ..., -0.75795116,\n",
              "        0.10773605,  0.27662905])"
            ]
          },
          "metadata": {},
          "execution_count": 19
        }
      ]
    },
    {
      "cell_type": "code",
      "source": [
        "x = np.random.normal(loc = 0.0, scale = 1.0, size = 10000)"
      ],
      "metadata": {
        "id": "dyArPHP2ZS2-"
      },
      "execution_count": null,
      "outputs": []
    },
    {
      "cell_type": "code",
      "source": [
        "plt.hist(x, bins = 'auto', density = True, edgecolor = 'black')"
      ],
      "metadata": {
        "colab": {
          "base_uri": "https://localhost:8080/",
          "height": 912
        },
        "id": "i8qtwFdPZ2CP",
        "outputId": "9a66cd9f-d705-4cfe-ed0c-175a8dadf17d"
      },
      "execution_count": null,
      "outputs": [
        {
          "output_type": "execute_result",
          "data": {
            "text/plain": [
              "(array([0.00079349, 0.        , 0.        , 0.        , 0.00158698,\n",
              "        0.00079349, 0.00396746, 0.00158698, 0.00634793, 0.00476095,\n",
              "        0.00714142, 0.01586983, 0.01269586, 0.02539173, 0.02935919,\n",
              "        0.03332664, 0.06109885, 0.07379471, 0.08331661, 0.08887105,\n",
              "        0.13886102, 0.15473085, 0.187264  , 0.21027526, 0.23487349,\n",
              "        0.27930902, 0.29279837, 0.31580963, 0.35945166, 0.33644041,\n",
              "        0.35945166, 0.37928895, 0.39912624, 0.39039783, 0.38484339,\n",
              "        0.39119132, 0.35389722, 0.3372339 , 0.32533153, 0.26502617,\n",
              "        0.23487349, 0.2150362 , 0.19440542, 0.14362197, 0.13410007,\n",
              "        0.11108881, 0.08649058, 0.07141424, 0.05713139, 0.03412014,\n",
              "        0.02618522, 0.02142427, 0.01666332, 0.01507634, 0.0095219 ,\n",
              "        0.00476095, 0.00555444, 0.00158698, 0.00238047, 0.        ,\n",
              "        0.00158698, 0.00158698]),\n",
              " array([-4.10073993, -3.97471464, -3.84868935, -3.72266406, -3.59663877,\n",
              "        -3.47061348, -3.34458819, -3.2185629 , -3.09253761, -2.96651233,\n",
              "        -2.84048704, -2.71446175, -2.58843646, -2.46241117, -2.33638588,\n",
              "        -2.21036059, -2.0843353 , -1.95831001, -1.83228472, -1.70625943,\n",
              "        -1.58023414, -1.45420885, -1.32818356, -1.20215827, -1.07613298,\n",
              "        -0.95010769, -0.8240824 , -0.69805711, -0.57203182, -0.44600653,\n",
              "        -0.31998124, -0.19395595, -0.06793066,  0.05809463,  0.18411992,\n",
              "         0.31014521,  0.4361705 ,  0.56219579,  0.68822108,  0.81424637,\n",
              "         0.94027166,  1.06629695,  1.19232224,  1.31834753,  1.44437282,\n",
              "         1.57039811,  1.6964234 ,  1.82244869,  1.94847398,  2.07449927,\n",
              "         2.20052456,  2.32654985,  2.45257514,  2.57860043,  2.70462572,\n",
              "         2.83065101,  2.9566763 ,  3.08270159,  3.20872688,  3.33475217,\n",
              "         3.46077746,  3.58680275,  3.71282804]),\n",
              " <BarContainer object of 62 artists>)"
            ]
          },
          "metadata": {},
          "execution_count": 22
        },
        {
          "output_type": "display_data",
          "data": {
            "text/plain": [
              "<Figure size 640x480 with 1 Axes>"
            ],
            "image/png": "[encoded data removed]"
          },
          "metadata": {}
        }
      ]
    },
    {
      "cell_type": "code",
      "source": [],
      "metadata": {
        "id": "YzvuwggOZ6Hy"
      },
      "execution_count": null,
      "outputs": []
    }
  ]
}